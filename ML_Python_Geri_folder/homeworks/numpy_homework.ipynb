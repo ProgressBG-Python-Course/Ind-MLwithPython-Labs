{
 "cells": [
  {
   "cell_type": "markdown",
   "metadata": {},
   "source": [
    "# Numpy intro"
   ]
  },
  {
   "cell_type": "code",
   "execution_count": 44,
   "metadata": {},
   "outputs": [],
   "source": [
    "import numpy as np"
   ]
  },
  {
   "cell_type": "code",
   "execution_count": 45,
   "metadata": {},
   "outputs": [
    {
     "data": {
      "text/plain": [
       "array([[1, 2, 3],\n",
       "       [4, 5, 6]], dtype=int8)"
      ]
     },
     "execution_count": 45,
     "metadata": {},
     "output_type": "execute_result"
    }
   ],
   "source": [
    "ndarr=np.array([[1,2,3],[4,5,6]], dtype=np.int8)\n",
    "ndarr"
   ]
  },
  {
   "cell_type": "markdown",
   "metadata": {},
   "source": [
    "## find bigger number"
   ]
  },
  {
   "cell_type": "code",
   "execution_count": 50,
   "metadata": {},
   "outputs": [
    {
     "data": {
      "text/plain": [
       "1000"
      ]
     },
     "execution_count": 50,
     "metadata": {},
     "output_type": "execute_result"
    }
   ],
   "source": [
    "def find_big_num (*args):\n",
    "    return(max(args))\n",
    "result1 = find_big_num(2,3,6,7,3,5,10)\n",
    "result1\n",
    "result2 = find_big_num(234,54,345,1000)\n",
    "result2"
   ]
  },
  {
   "cell_type": "markdown",
   "metadata": {},
   "source": [
    "## bacis properties"
   ]
  },
  {
   "cell_type": "markdown",
   "metadata": {},
   "source": [
    "### numpy create methods https://docs.scipy.org/doc/numpy/reference/routines.array-creation.html"
   ]
  },
  {
   "cell_type": "markdown",
   "metadata": {},
   "source": [
    "### numpy.array() & numpy.arange() & ndarray attributes( size, shape, ndim, dtype, nbytes, itemsize)   \n",
    "https://docs.scipy.org/doc/numpy/reference/arrays.ndarray.html#array-attributes"
   ]
  },
  {
   "cell_type": "code",
   "execution_count": 51,
   "metadata": {},
   "outputs": [
    {
     "name": "stdout",
     "output_type": "stream",
     "text": [
      "[[1 2 3]\n",
      " [4 5 6]\n",
      " [7 8 9]]\n",
      "(3, 3)\n",
      "9\n",
      "9\n",
      "[[False  True  True]\n",
      " [False  True  True]\n",
      " [False  True  True]]\n"
     ]
    }
   ],
   "source": [
    "a3 = np.array([[1,2,3],[4,5,6],[7,8,9]],dtype=np.int8)\n",
    "print(a3)\n",
    "print(a3.shape)\n",
    "print(a3.size)\n",
    "print(a3.nbytes)\n",
    "a4 = np.array([[0,2,3],[0,5,6],[0,8,9]],dtype=np.bool)\n",
    "print(a4)"
   ]
  },
  {
   "cell_type": "code",
   "execution_count": 52,
   "metadata": {},
   "outputs": [
    {
     "name": "stdout",
     "output_type": "stream",
     "text": [
      "[0 2 4 6 8]\n",
      "(5,)\n",
      "5\n",
      "20\n",
      "1\n"
     ]
    }
   ],
   "source": [
    "a5 = np.arange(0,10,2)# start,stop,step\n",
    "print(a5)\n",
    "print(a5.shape)\n",
    "print(a5.size)\n",
    "print(a5.nbytes)\n",
    "print(a5.ndim)"
   ]
  },
  {
   "cell_type": "markdown",
   "metadata": {},
   "source": [
    "### arrays algebra point to point"
   ]
  },
  {
   "cell_type": "code",
   "execution_count": 53,
   "metadata": {},
   "outputs": [
    {
     "name": "stdout",
     "output_type": "stream",
     "text": [
      "a3=  [[1 2 3]\n",
      " [4 5 6]\n",
      " [7 8 9]]\n",
      "a3 + a6 =  [[ 2  4  6]\n",
      " [ 5  7  9]\n",
      " [ 8 10 12]]\n",
      "a6*3 =  [2 4 6]\n"
     ]
    }
   ],
   "source": [
    "print('a3= ',a3)\n",
    "a6 = np.array([1,2,3])\n",
    "print('a3 + a6 = ',a3+a6)\n",
    "print('a6*3 = ',a6*2)"
   ]
  },
  {
   "cell_type": "code",
   "execution_count": 54,
   "metadata": {},
   "outputs": [
    {
     "name": "stdout",
     "output_type": "stream",
     "text": [
      "[14 32 50]\n",
      "[30 36 42]\n"
     ]
    }
   ],
   "source": [
    "print(a3.dot(a6))\n",
    "print(a6.dot(a3))"
   ]
  },
  {
   "cell_type": "markdown",
   "metadata": {},
   "source": [
    "### indexid & slicing"
   ]
  },
  {
   "cell_type": "code",
   "execution_count": 75,
   "metadata": {},
   "outputs": [
    {
     "name": "stdout",
     "output_type": "stream",
     "text": [
      "[[ 1  2  3]\n",
      " [ 4  5  6]\n",
      " [ 7  8  9]\n",
      " [10 11 12]]\n",
      "all elements without middle column [[ 1  3]\n",
      " [ 4  6]\n",
      " [ 7  9]\n",
      " [10 12]]\n",
      "all elements without first & second column [[ 3]\n",
      " [ 6]\n",
      " [ 9]\n",
      " [12]]\n",
      "all elements without second & third row [[1 2 3]\n",
      " [7 8 9]]\n",
      "only second row & second column [[ 5  6]\n",
      " [ 8  9]\n",
      " [11 12]]\n"
     ]
    }
   ],
   "source": [
    "a8 =np.arange(1,13).reshape(4,3)\n",
    "print(a8)\n",
    "#[row start:stop:step ,column start:stop:step]\n",
    "print('all elements without middle column',a8[0::1,0::2])\n",
    "print('all elements without first & second column',a8[0::1,2::])\n",
    "print('all elements without second & third row',a8[0::2,0::1])\n",
    "print('only second row & second column',a8[1::,1::])"
   ]
  },
  {
   "cell_type": "markdown",
   "metadata": {},
   "source": [
    "### masking"
   ]
  },
  {
   "cell_type": "code",
   "execution_count": 83,
   "metadata": {},
   "outputs": [
    {
     "name": "stdout",
     "output_type": "stream",
     "text": [
      "[[ 1  2  3]\n",
      " [ 4  5  6]\n",
      " [ 7  8  9]\n",
      " [10 11 12]]\n",
      "[ 2  4  6  8 10 12]\n",
      "[ 1  3  5  7  9 11]\n",
      "[1 2 3 4 5 6]\n"
     ]
    }
   ],
   "source": [
    "a9=a8[a8%2==0]\n",
    "print (a8)\n",
    "print(a9)\n",
    "a10=a8[a8%2!=0]\n",
    "print(a10)\n",
    "a11=a8[a8<=6]\n",
    "print(a11)"
   ]
  },
  {
   "cell_type": "code",
   "execution_count": null,
   "metadata": {},
   "outputs": [],
   "source": []
  }
 ],
 "metadata": {
  "kernelspec": {
   "display_name": "Python 3",
   "language": "python",
   "name": "python3"
  },
  "language_info": {
   "codemirror_mode": {
    "name": "ipython",
    "version": 3
   },
   "file_extension": ".py",
   "mimetype": "text/x-python",
   "name": "python",
   "nbconvert_exporter": "python",
   "pygments_lexer": "ipython3",
   "version": "3.7.3"
  }
 },
 "nbformat": 4,
 "nbformat_minor": 2
}
