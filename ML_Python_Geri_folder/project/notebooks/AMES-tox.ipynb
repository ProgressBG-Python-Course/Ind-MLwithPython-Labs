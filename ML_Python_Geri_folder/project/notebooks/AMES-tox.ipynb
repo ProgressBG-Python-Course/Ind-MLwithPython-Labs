{
 "cells": [
  {
   "cell_type": "markdown",
   "metadata": {},
   "source": [
    "## Microbial mutagenicity AMES competition"
   ]
  },
  {
   "cell_type": "code",
   "execution_count": 16,
   "metadata": {},
   "outputs": [],
   "source": [
    "import numpy as np\n",
    "import pandas as pd\n",
    "import matplotlib.pyplot as plt\n",
    "import seaborn as sns\n",
    "\n",
    "from sklearn.naive_bayes import GaussianNB\n",
    "\n",
    "from sklearn.model_selection import train_test_split\n",
    "from sklearn.metrics import confusion_matrix\n",
    "from sklearn.metrics import accuracy_score\n",
    "\n",
    "import matplotlib.pyplot as plt"
   ]
  },
  {
   "cell_type": "markdown",
   "metadata": {},
   "source": [
    "## Data insights"
   ]
  },
  {
   "cell_type": "code",
   "execution_count": 18,
   "metadata": {},
   "outputs": [
    {
     "data": {
      "text/html": [
       "<div>\n",
       "<style scoped>\n",
       "    .dataframe tbody tr th:only-of-type {\n",
       "        vertical-align: middle;\n",
       "    }\n",
       "\n",
       "    .dataframe tbody tr th {\n",
       "        vertical-align: top;\n",
       "    }\n",
       "\n",
       "    .dataframe thead th {\n",
       "        text-align: right;\n",
       "    }\n",
       "</style>\n",
       "<table border=\"1\" class=\"dataframe\">\n",
       "  <thead>\n",
       "    <tr style=\"text-align: right;\">\n",
       "      <th></th>\n",
       "      <th>Unnamed: 0</th>\n",
       "      <th>AmesResult</th>\n",
       "      <th>Structure</th>\n",
       "      <th>SlogP</th>\n",
       "      <th>SMR</th>\n",
       "      <th>LabuteASA</th>\n",
       "      <th>TPSA</th>\n",
       "      <th>AMW</th>\n",
       "      <th>ExactMW</th>\n",
       "      <th>NumLipinskiHBA</th>\n",
       "      <th>...</th>\n",
       "      <th>MQN33</th>\n",
       "      <th>MQN34</th>\n",
       "      <th>MQN35</th>\n",
       "      <th>MQN36</th>\n",
       "      <th>MQN37</th>\n",
       "      <th>MQN38</th>\n",
       "      <th>MQN39</th>\n",
       "      <th>MQN40</th>\n",
       "      <th>MQN41</th>\n",
       "      <th>MQN42</th>\n",
       "    </tr>\n",
       "  </thead>\n",
       "  <tbody>\n",
       "    <tr>\n",
       "      <th>0</th>\n",
       "      <td>0</td>\n",
       "      <td>C</td>\n",
       "      <td>[Na+].[Na+].CC1(C)SC2C(NC(=O)C(C([O-])=O)C3=CS...</td>\n",
       "      <td>-8.11340</td>\n",
       "      <td>85.0967</td>\n",
       "      <td>207.568628</td>\n",
       "      <td>129.67</td>\n",
       "      <td>428.399</td>\n",
       "      <td>428.008867</td>\n",
       "      <td>8</td>\n",
       "      <td>...</td>\n",
       "      <td>0</td>\n",
       "      <td>1</td>\n",
       "      <td>2</td>\n",
       "      <td>0</td>\n",
       "      <td>0</td>\n",
       "      <td>0</td>\n",
       "      <td>0</td>\n",
       "      <td>0</td>\n",
       "      <td>2</td>\n",
       "      <td>1</td>\n",
       "    </tr>\n",
       "    <tr>\n",
       "      <th>1</th>\n",
       "      <td>1</td>\n",
       "      <td>C</td>\n",
       "      <td>FC(F)(F)C1=CC(N\\N=C2/C(=O)C(=CC3=CC=CC=C23)C(=...</td>\n",
       "      <td>11.17980</td>\n",
       "      <td>225.8008</td>\n",
       "      <td>365.430948</td>\n",
       "      <td>141.12</td>\n",
       "      <td>930.476</td>\n",
       "      <td>928.036083</td>\n",
       "      <td>10</td>\n",
       "      <td>...</td>\n",
       "      <td>0</td>\n",
       "      <td>0</td>\n",
       "      <td>0</td>\n",
       "      <td>7</td>\n",
       "      <td>0</td>\n",
       "      <td>0</td>\n",
       "      <td>0</td>\n",
       "      <td>0</td>\n",
       "      <td>4</td>\n",
       "      <td>2</td>\n",
       "    </tr>\n",
       "    <tr>\n",
       "      <th>2</th>\n",
       "      <td>2</td>\n",
       "      <td>C</td>\n",
       "      <td>CNC(=O)\\C=C(/C)OP(=O)(OC)OC</td>\n",
       "      <td>1.05370</td>\n",
       "      <td>50.5332</td>\n",
       "      <td>82.840931</td>\n",
       "      <td>73.86</td>\n",
       "      <td>223.165</td>\n",
       "      <td>223.060959</td>\n",
       "      <td>6</td>\n",
       "      <td>...</td>\n",
       "      <td>0</td>\n",
       "      <td>0</td>\n",
       "      <td>0</td>\n",
       "      <td>0</td>\n",
       "      <td>0</td>\n",
       "      <td>0</td>\n",
       "      <td>0</td>\n",
       "      <td>0</td>\n",
       "      <td>0</td>\n",
       "      <td>0</td>\n",
       "    </tr>\n",
       "    <tr>\n",
       "      <th>3</th>\n",
       "      <td>3</td>\n",
       "      <td>C</td>\n",
       "      <td>CC(C)NC(=O)N1CC(=O)N(C1=O)C1=CC(Cl)=CC(Cl)=C1</td>\n",
       "      <td>2.88000</td>\n",
       "      <td>79.7177</td>\n",
       "      <td>131.140795</td>\n",
       "      <td>69.72</td>\n",
       "      <td>330.171</td>\n",
       "      <td>329.033397</td>\n",
       "      <td>6</td>\n",
       "      <td>...</td>\n",
       "      <td>0</td>\n",
       "      <td>0</td>\n",
       "      <td>1</td>\n",
       "      <td>1</td>\n",
       "      <td>0</td>\n",
       "      <td>0</td>\n",
       "      <td>0</td>\n",
       "      <td>0</td>\n",
       "      <td>0</td>\n",
       "      <td>0</td>\n",
       "    </tr>\n",
       "    <tr>\n",
       "      <th>4</th>\n",
       "      <td>4</td>\n",
       "      <td>C</td>\n",
       "      <td>C\\C(CC\\C=C(\\C)C1CC(=O)C(C)(C)O1)=C/CC1=C(O)C(C...</td>\n",
       "      <td>5.22402</td>\n",
       "      <td>113.9341</td>\n",
       "      <td>176.578705</td>\n",
       "      <td>83.83</td>\n",
       "      <td>420.933</td>\n",
       "      <td>420.170352</td>\n",
       "      <td>5</td>\n",
       "      <td>...</td>\n",
       "      <td>0</td>\n",
       "      <td>0</td>\n",
       "      <td>1</td>\n",
       "      <td>1</td>\n",
       "      <td>0</td>\n",
       "      <td>0</td>\n",
       "      <td>0</td>\n",
       "      <td>0</td>\n",
       "      <td>0</td>\n",
       "      <td>0</td>\n",
       "    </tr>\n",
       "  </tbody>\n",
       "</table>\n",
       "<p>5 rows × 122 columns</p>\n",
       "</div>"
      ],
      "text/plain": [
       "   Unnamed: 0 AmesResult                                          Structure  \\\n",
       "0           0          C  [Na+].[Na+].CC1(C)SC2C(NC(=O)C(C([O-])=O)C3=CS...   \n",
       "1           1          C  FC(F)(F)C1=CC(N\\N=C2/C(=O)C(=CC3=CC=CC=C23)C(=...   \n",
       "2           2          C                        CNC(=O)\\C=C(/C)OP(=O)(OC)OC   \n",
       "3           3          C      CC(C)NC(=O)N1CC(=O)N(C1=O)C1=CC(Cl)=CC(Cl)=C1   \n",
       "4           4          C  C\\C(CC\\C=C(\\C)C1CC(=O)C(C)(C)O1)=C/CC1=C(O)C(C...   \n",
       "\n",
       "      SlogP       SMR   LabuteASA    TPSA      AMW     ExactMW  \\\n",
       "0  -8.11340   85.0967  207.568628  129.67  428.399  428.008867   \n",
       "1  11.17980  225.8008  365.430948  141.12  930.476  928.036083   \n",
       "2   1.05370   50.5332   82.840931   73.86  223.165  223.060959   \n",
       "3   2.88000   79.7177  131.140795   69.72  330.171  329.033397   \n",
       "4   5.22402  113.9341  176.578705   83.83  420.933  420.170352   \n",
       "\n",
       "   NumLipinskiHBA  ...  MQN33  MQN34  MQN35  MQN36  MQN37  MQN38  MQN39  \\\n",
       "0               8  ...      0      1      2      0      0      0      0   \n",
       "1              10  ...      0      0      0      7      0      0      0   \n",
       "2               6  ...      0      0      0      0      0      0      0   \n",
       "3               6  ...      0      0      1      1      0      0      0   \n",
       "4               5  ...      0      0      1      1      0      0      0   \n",
       "\n",
       "   MQN40  MQN41  MQN42  \n",
       "0      0      2      1  \n",
       "1      0      4      2  \n",
       "2      0      0      0  \n",
       "3      0      0      0  \n",
       "4      0      0      0  \n",
       "\n",
       "[5 rows x 122 columns]"
      ]
     },
     "execution_count": 18,
     "metadata": {},
     "output_type": "execute_result"
    }
   ],
   "source": [
    "df = pd.read_csv('ames_datapreprocessing_knime.csv')\n",
    "df.head()\n",
    "\n",
    "\n"
   ]
  },
  {
   "cell_type": "code",
   "execution_count": 19,
   "metadata": {},
   "outputs": [
    {
     "data": {
      "text/plain": [
       "(12138, 122)"
      ]
     },
     "execution_count": 19,
     "metadata": {},
     "output_type": "execute_result"
    }
   ],
   "source": [
    "df.shape"
   ]
  },
  {
   "cell_type": "code",
   "execution_count": 20,
   "metadata": {},
   "outputs": [
    {
     "data": {
      "text/plain": [
       "Unnamed: 0    0\n",
       "AmesResult    6\n",
       "Structure     0\n",
       "SlogP         0\n",
       "SMR           0\n",
       "             ..\n",
       "MQN38         0\n",
       "MQN39         0\n",
       "MQN40         0\n",
       "MQN41         0\n",
       "MQN42         0\n",
       "Length: 122, dtype: int64"
      ]
     },
     "execution_count": 20,
     "metadata": {},
     "output_type": "execute_result"
    }
   ],
   "source": [
    "# percentage of NaN values\n",
    "df.isnull().mean()\n",
    "\n",
    "# sum of NaN values\n",
    "df.isnull().sum()"
   ]
  },
  {
   "cell_type": "code",
   "execution_count": 6,
   "metadata": {},
   "outputs": [
    {
     "data": {
      "text/plain": [
       "array(['C', 'A', 'B', nan], dtype=object)"
      ]
     },
     "execution_count": 6,
     "metadata": {},
     "output_type": "execute_result"
    }
   ],
   "source": [
    "df.AmesResult.unique()"
   ]
  },
  {
   "cell_type": "code",
   "execution_count": 22,
   "metadata": {},
   "outputs": [],
   "source": [
    "# TODO: make it show NaN rows:\n",
    "mask = df.AmesResult == 'C'\n",
    "\n"
   ]
  },
  {
   "cell_type": "markdown",
   "metadata": {},
   "source": [
    "## Clean Data"
   ]
  },
  {
   "cell_type": "markdown",
   "metadata": {},
   "source": [
    "### Deal with NaN values"
   ]
  },
  {
   "cell_type": "code",
   "execution_count": 34,
   "metadata": {},
   "outputs": [
    {
     "name": "stdout",
     "output_type": "stream",
     "text": [
      "before: (12138, 122)\n",
      "AmesResult    6\n",
      "MQN42         0\n",
      "slogp_VSA2    0\n",
      "Chi1v         0\n",
      "dtype: int64\n",
      "col_tresh_as_int: 1\n",
      "after: (12138, 122)\n"
     ]
    }
   ],
   "source": [
    "def deal_with_NaN_vlaues(df, threshold=0.8):\n",
    "    \"\"\"deal_with_NaN_vlaues\n",
    "\n",
    "    Arguments:\n",
    "        df {DataFrame} -- DataFrame Object\n",
    "\n",
    "    Keyword Arguments:\n",
    "        threshold {float} -- drop columns and rows with missing values > threshold (default: {0.8})\n",
    "    \"\"\"\n",
    "    # print('NaN values in DF, sorted descending:')\n",
    "    print(  df.isna().sum().sort_values(ascending=False)[0:4] )\n",
    "\n",
    "    # print('NaN values percentage in DF, sorted descending:')\n",
    "    # print(df.isna().mean().round(4).sort_values(ascending=False))\n",
    "\n",
    "    #Drop columns with missing value rate higher than threshold:\n",
    "    # TODO: check why not working  !!!\n",
    "    col_tresh_as_int = int(round(threshold*df.shape[0])) + 1\n",
    "    print(f'col_tresh_as_int: {col_tresh_as_int}')\n",
    "    df = df.dropna(axis=1, thresh=col_tresh_as_int)\n",
    "\n",
    "    #Drop rows with missing value rate higher than threshold:\n",
    "    row_tresh_as_int = int(round(threshold*df.shape[1]))\n",
    "    df = df.dropna(axis=0, thresh=row_tresh_as_int)\n",
    "\n",
    "    return df\n",
    "\n",
    "# print(f'before: {df.shape}')\n",
    "\n",
    "df = deal_with_NaN_vlaues(df, threshold=0)\n",
    "\n",
    "# print(f'after: {df.shape}')"
   ]
  },
  {
   "cell_type": "code",
   "execution_count": 36,
   "metadata": {},
   "outputs": [
    {
     "name": "stdout",
     "output_type": "stream",
     "text": [
      "df shape after NaN clear: (12132, 122)\n"
     ]
    }
   ],
   "source": [
    "df_original = df\n",
    "\n",
    "# be careful!!!\n",
    "# df = df_original.dropna()\n",
    "# remove all rows, where NaN values are in the Target column:\n",
    "df = df.dropna(how='any', subset=['AmesResult'])\n",
    "print(f'df shape after NaN clear: {df.shape}')\n"
   ]
  },
  {
   "cell_type": "markdown",
   "metadata": {},
   "source": [
    "## Outliears"
   ]
  },
  {
   "cell_type": "code",
   "execution_count": 38,
   "metadata": {},
   "outputs": [
    {
     "data": {
      "text/plain": [
       "<matplotlib.axes._subplots.AxesSubplot at 0x7fba2f36e580>"
      ]
     },
     "execution_count": 38,
     "metadata": {},
     "output_type": "execute_result"
    },
    {
     "data": {
      "image/png": "[encoded data removed]",
      "text/plain": [
       "<Figure size 432x288 with 1 Axes>"
      ]
     },
     "metadata": {
      "needs_background": "light"
     },
     "output_type": "display_data"
    }
   ],
   "source": [
    "# TODO wrute function to find and remove outliers\n",
    "\n",
    "df.iloc[:,5]\n",
    "sns.boxplot(x=df.iloc[:,5])\n",
    "sns.boxplot(x=df.iloc[:,6])\n",
    "sns.boxplot(x=df.iloc[:,7])"
   ]
  },
  {
   "cell_type": "code",
   "execution_count": 40,
   "metadata": {},
   "outputs": [],
   "source": [
    "### Separate input data (X) and target (y)"
   ]
  },
  {
   "cell_type": "code",
   "execution_count": 50,
   "metadata": {},
   "outputs": [
    {
     "name": "stdout",
     "output_type": "stream",
     "text": [
      "Index(['SlogP', 'SMR', 'LabuteASA'], dtype='object')\n",
      "X shape: (12132, 119)\n",
      "y shape: (12132,)\n"
     ]
    }
   ],
   "source": [
    "df.head()\n",
    "X = df.iloc[:, 3:]\n",
    "\n",
    "# print the name of first 3 columns:\n",
    "print(X.columns[0:3])\n",
    "\n",
    "y = df['AmesResult']\n",
    "\n",
    "print(f'X shape: {X.shape}')\n",
    "print(f'y shape: {y.shape}')"
   ]
  },
  {
   "cell_type": "markdown",
   "metadata": {},
   "source": [
    "## Feature Selection"
   ]
  },
  {
   "cell_type": "markdown",
   "metadata": {},
   "source": [
    "#### Remove Correlated columns"
   ]
  },
  {
   "cell_type": "code",
   "execution_count": 72,
   "metadata": {},
   "outputs": [
    {
     "data": {
      "text/html": [
       "<div>\n",
       "<style scoped>\n",
       "    .dataframe tbody tr th:only-of-type {\n",
       "        vertical-align: middle;\n",
       "    }\n",
       "\n",
       "    .dataframe tbody tr th {\n",
       "        vertical-align: top;\n",
       "    }\n",
       "\n",
       "    .dataframe thead th {\n",
       "        text-align: right;\n",
       "    }\n",
       "</style>\n",
       "<table border=\"1\" class=\"dataframe\">\n",
       "  <thead>\n",
       "    <tr style=\"text-align: right;\">\n",
       "      <th></th>\n",
       "      <th>SlogP</th>\n",
       "      <th>SMR</th>\n",
       "      <th>LabuteASA</th>\n",
       "      <th>TPSA</th>\n",
       "      <th>AMW</th>\n",
       "      <th>ExactMW</th>\n",
       "      <th>NumLipinskiHBA</th>\n",
       "      <th>NumLipinskiHBD</th>\n",
       "      <th>NumRotatableBonds</th>\n",
       "      <th>NumHBD</th>\n",
       "      <th>...</th>\n",
       "      <th>MQN33</th>\n",
       "      <th>MQN34</th>\n",
       "      <th>MQN35</th>\n",
       "      <th>MQN36</th>\n",
       "      <th>MQN37</th>\n",
       "      <th>MQN38</th>\n",
       "      <th>MQN39</th>\n",
       "      <th>MQN40</th>\n",
       "      <th>MQN41</th>\n",
       "      <th>MQN42</th>\n",
       "    </tr>\n",
       "  </thead>\n",
       "  <tbody>\n",
       "    <tr>\n",
       "      <th>SlogP</th>\n",
       "      <td>1.000000</td>\n",
       "      <td>0.327792</td>\n",
       "      <td>0.086885</td>\n",
       "      <td>-0.430167</td>\n",
       "      <td>0.132007</td>\n",
       "      <td>0.131890</td>\n",
       "      <td>-0.343533</td>\n",
       "      <td>-0.282914</td>\n",
       "      <td>0.290140</td>\n",
       "      <td>-0.262695</td>\n",
       "      <td>...</td>\n",
       "      <td>-0.013011</td>\n",
       "      <td>-0.045544</td>\n",
       "      <td>0.012556</td>\n",
       "      <td>0.180635</td>\n",
       "      <td>0.031360</td>\n",
       "      <td>0.003127</td>\n",
       "      <td>-0.002302</td>\n",
       "      <td>-0.034927</td>\n",
       "      <td>0.009296</td>\n",
       "      <td>-0.007719</td>\n",
       "    </tr>\n",
       "    <tr>\n",
       "      <th>SMR</th>\n",
       "      <td>0.327792</td>\n",
       "      <td>1.000000</td>\n",
       "      <td>0.950683</td>\n",
       "      <td>0.622526</td>\n",
       "      <td>0.935137</td>\n",
       "      <td>0.935298</td>\n",
       "      <td>0.688124</td>\n",
       "      <td>0.337354</td>\n",
       "      <td>0.765833</td>\n",
       "      <td>0.384047</td>\n",
       "      <td>...</td>\n",
       "      <td>-0.033543</td>\n",
       "      <td>0.057651</td>\n",
       "      <td>0.130526</td>\n",
       "      <td>0.734617</td>\n",
       "      <td>0.040660</td>\n",
       "      <td>0.031564</td>\n",
       "      <td>0.007788</td>\n",
       "      <td>0.121058</td>\n",
       "      <td>0.303649</td>\n",
       "      <td>0.210573</td>\n",
       "    </tr>\n",
       "    <tr>\n",
       "      <th>LabuteASA</th>\n",
       "      <td>0.086885</td>\n",
       "      <td>0.950683</td>\n",
       "      <td>1.000000</td>\n",
       "      <td>0.764860</td>\n",
       "      <td>0.981662</td>\n",
       "      <td>0.981814</td>\n",
       "      <td>0.804881</td>\n",
       "      <td>0.370192</td>\n",
       "      <td>0.733618</td>\n",
       "      <td>0.415559</td>\n",
       "      <td>...</td>\n",
       "      <td>-0.032693</td>\n",
       "      <td>0.054522</td>\n",
       "      <td>0.112341</td>\n",
       "      <td>0.714706</td>\n",
       "      <td>0.024920</td>\n",
       "      <td>0.026646</td>\n",
       "      <td>0.007726</td>\n",
       "      <td>0.118140</td>\n",
       "      <td>0.301679</td>\n",
       "      <td>0.208551</td>\n",
       "    </tr>\n",
       "    <tr>\n",
       "      <th>TPSA</th>\n",
       "      <td>-0.430167</td>\n",
       "      <td>0.622526</td>\n",
       "      <td>0.764860</td>\n",
       "      <td>1.000000</td>\n",
       "      <td>0.745311</td>\n",
       "      <td>0.745582</td>\n",
       "      <td>0.977114</td>\n",
       "      <td>0.647899</td>\n",
       "      <td>0.481173</td>\n",
       "      <td>0.662481</td>\n",
       "      <td>...</td>\n",
       "      <td>-0.036630</td>\n",
       "      <td>0.067267</td>\n",
       "      <td>0.092961</td>\n",
       "      <td>0.465803</td>\n",
       "      <td>-0.017789</td>\n",
       "      <td>0.011131</td>\n",
       "      <td>0.010275</td>\n",
       "      <td>0.139989</td>\n",
       "      <td>0.227043</td>\n",
       "      <td>0.165406</td>\n",
       "    </tr>\n",
       "    <tr>\n",
       "      <th>AMW</th>\n",
       "      <td>0.132007</td>\n",
       "      <td>0.935137</td>\n",
       "      <td>0.981662</td>\n",
       "      <td>0.745311</td>\n",
       "      <td>1.000000</td>\n",
       "      <td>0.999997</td>\n",
       "      <td>0.791460</td>\n",
       "      <td>0.373791</td>\n",
       "      <td>0.734627</td>\n",
       "      <td>0.420153</td>\n",
       "      <td>...</td>\n",
       "      <td>-0.032800</td>\n",
       "      <td>0.060288</td>\n",
       "      <td>0.107230</td>\n",
       "      <td>0.669803</td>\n",
       "      <td>0.027667</td>\n",
       "      <td>0.036313</td>\n",
       "      <td>0.007858</td>\n",
       "      <td>0.124947</td>\n",
       "      <td>0.285701</td>\n",
       "      <td>0.199377</td>\n",
       "    </tr>\n",
       "    <tr>\n",
       "      <th>...</th>\n",
       "      <td>...</td>\n",
       "      <td>...</td>\n",
       "      <td>...</td>\n",
       "      <td>...</td>\n",
       "      <td>...</td>\n",
       "      <td>...</td>\n",
       "      <td>...</td>\n",
       "      <td>...</td>\n",
       "      <td>...</td>\n",
       "      <td>...</td>\n",
       "      <td>...</td>\n",
       "      <td>...</td>\n",
       "      <td>...</td>\n",
       "      <td>...</td>\n",
       "      <td>...</td>\n",
       "      <td>...</td>\n",
       "      <td>...</td>\n",
       "      <td>...</td>\n",
       "      <td>...</td>\n",
       "      <td>...</td>\n",
       "      <td>...</td>\n",
       "    </tr>\n",
       "    <tr>\n",
       "      <th>MQN38</th>\n",
       "      <td>0.003127</td>\n",
       "      <td>0.031564</td>\n",
       "      <td>0.026646</td>\n",
       "      <td>0.011131</td>\n",
       "      <td>0.036313</td>\n",
       "      <td>0.036308</td>\n",
       "      <td>0.025805</td>\n",
       "      <td>-0.002733</td>\n",
       "      <td>0.010581</td>\n",
       "      <td>-0.005198</td>\n",
       "      <td>...</td>\n",
       "      <td>0.020393</td>\n",
       "      <td>0.003774</td>\n",
       "      <td>-0.013313</td>\n",
       "      <td>-0.005582</td>\n",
       "      <td>-0.003032</td>\n",
       "      <td>1.000000</td>\n",
       "      <td>-0.000256</td>\n",
       "      <td>-0.001349</td>\n",
       "      <td>0.097432</td>\n",
       "      <td>0.136074</td>\n",
       "    </tr>\n",
       "    <tr>\n",
       "      <th>MQN39</th>\n",
       "      <td>-0.002302</td>\n",
       "      <td>0.007788</td>\n",
       "      <td>0.007726</td>\n",
       "      <td>0.010275</td>\n",
       "      <td>0.007858</td>\n",
       "      <td>0.007873</td>\n",
       "      <td>0.012217</td>\n",
       "      <td>0.004162</td>\n",
       "      <td>0.002473</td>\n",
       "      <td>0.005710</td>\n",
       "      <td>...</td>\n",
       "      <td>-0.001439</td>\n",
       "      <td>-0.001325</td>\n",
       "      <td>-0.004890</td>\n",
       "      <td>0.002298</td>\n",
       "      <td>-0.000977</td>\n",
       "      <td>-0.000256</td>\n",
       "      <td>1.000000</td>\n",
       "      <td>-0.000435</td>\n",
       "      <td>-0.003960</td>\n",
       "      <td>-0.002927</td>\n",
       "    </tr>\n",
       "    <tr>\n",
       "      <th>MQN40</th>\n",
       "      <td>-0.034927</td>\n",
       "      <td>0.121058</td>\n",
       "      <td>0.118140</td>\n",
       "      <td>0.139989</td>\n",
       "      <td>0.124947</td>\n",
       "      <td>0.125040</td>\n",
       "      <td>0.146328</td>\n",
       "      <td>0.203250</td>\n",
       "      <td>0.028041</td>\n",
       "      <td>0.228094</td>\n",
       "      <td>...</td>\n",
       "      <td>-0.005343</td>\n",
       "      <td>-0.006989</td>\n",
       "      <td>0.011191</td>\n",
       "      <td>0.058451</td>\n",
       "      <td>-0.005156</td>\n",
       "      <td>-0.001349</td>\n",
       "      <td>-0.000435</td>\n",
       "      <td>1.000000</td>\n",
       "      <td>0.343068</td>\n",
       "      <td>0.449946</td>\n",
       "    </tr>\n",
       "    <tr>\n",
       "      <th>MQN41</th>\n",
       "      <td>0.009296</td>\n",
       "      <td>0.303649</td>\n",
       "      <td>0.301679</td>\n",
       "      <td>0.227043</td>\n",
       "      <td>0.285701</td>\n",
       "      <td>0.285801</td>\n",
       "      <td>0.240378</td>\n",
       "      <td>0.141010</td>\n",
       "      <td>-0.006957</td>\n",
       "      <td>0.159466</td>\n",
       "      <td>...</td>\n",
       "      <td>-0.001476</td>\n",
       "      <td>0.033061</td>\n",
       "      <td>0.342692</td>\n",
       "      <td>0.469962</td>\n",
       "      <td>0.110257</td>\n",
       "      <td>0.097432</td>\n",
       "      <td>-0.003960</td>\n",
       "      <td>0.343068</td>\n",
       "      <td>1.000000</td>\n",
       "      <td>0.925261</td>\n",
       "    </tr>\n",
       "    <tr>\n",
       "      <th>MQN42</th>\n",
       "      <td>-0.007719</td>\n",
       "      <td>0.210573</td>\n",
       "      <td>0.208551</td>\n",
       "      <td>0.165406</td>\n",
       "      <td>0.199377</td>\n",
       "      <td>0.199465</td>\n",
       "      <td>0.174415</td>\n",
       "      <td>0.129865</td>\n",
       "      <td>-0.022592</td>\n",
       "      <td>0.146569</td>\n",
       "      <td>...</td>\n",
       "      <td>-0.007182</td>\n",
       "      <td>0.013804</td>\n",
       "      <td>0.225644</td>\n",
       "      <td>0.368534</td>\n",
       "      <td>0.099484</td>\n",
       "      <td>0.136074</td>\n",
       "      <td>-0.002927</td>\n",
       "      <td>0.449946</td>\n",
       "      <td>0.925261</td>\n",
       "      <td>1.000000</td>\n",
       "    </tr>\n",
       "  </tbody>\n",
       "</table>\n",
       "<p>119 rows × 119 columns</p>\n",
       "</div>"
      ],
      "text/plain": [
       "              SlogP       SMR  LabuteASA      TPSA       AMW   ExactMW  \\\n",
       "SlogP      1.000000  0.327792   0.086885 -0.430167  0.132007  0.131890   \n",
       "SMR        0.327792  1.000000   0.950683  0.622526  0.935137  0.935298   \n",
       "LabuteASA  0.086885  0.950683   1.000000  0.764860  0.981662  0.981814   \n",
       "TPSA      -0.430167  0.622526   0.764860  1.000000  0.745311  0.745582   \n",
       "AMW        0.132007  0.935137   0.981662  0.745311  1.000000  0.999997   \n",
       "...             ...       ...        ...       ...       ...       ...   \n",
       "MQN38      0.003127  0.031564   0.026646  0.011131  0.036313  0.036308   \n",
       "MQN39     -0.002302  0.007788   0.007726  0.010275  0.007858  0.007873   \n",
       "MQN40     -0.034927  0.121058   0.118140  0.139989  0.124947  0.125040   \n",
       "MQN41      0.009296  0.303649   0.301679  0.227043  0.285701  0.285801   \n",
       "MQN42     -0.007719  0.210573   0.208551  0.165406  0.199377  0.199465   \n",
       "\n",
       "           NumLipinskiHBA  NumLipinskiHBD  NumRotatableBonds    NumHBD  ...  \\\n",
       "SlogP           -0.343533       -0.282914           0.290140 -0.262695  ...   \n",
       "SMR              0.688124        0.337354           0.765833  0.384047  ...   \n",
       "LabuteASA        0.804881        0.370192           0.733618  0.415559  ...   \n",
       "TPSA             0.977114        0.647899           0.481173  0.662481  ...   \n",
       "AMW              0.791460        0.373791           0.734627  0.420153  ...   \n",
       "...                   ...             ...                ...       ...  ...   \n",
       "MQN38            0.025805       -0.002733           0.010581 -0.005198  ...   \n",
       "MQN39            0.012217        0.004162           0.002473  0.005710  ...   \n",
       "MQN40            0.146328        0.203250           0.028041  0.228094  ...   \n",
       "MQN41            0.240378        0.141010          -0.006957  0.159466  ...   \n",
       "MQN42            0.174415        0.129865          -0.022592  0.146569  ...   \n",
       "\n",
       "              MQN33     MQN34     MQN35     MQN36     MQN37     MQN38  \\\n",
       "SlogP     -0.013011 -0.045544  0.012556  0.180635  0.031360  0.003127   \n",
       "SMR       -0.033543  0.057651  0.130526  0.734617  0.040660  0.031564   \n",
       "LabuteASA -0.032693  0.054522  0.112341  0.714706  0.024920  0.026646   \n",
       "TPSA      -0.036630  0.067267  0.092961  0.465803 -0.017789  0.011131   \n",
       "AMW       -0.032800  0.060288  0.107230  0.669803  0.027667  0.036313   \n",
       "...             ...       ...       ...       ...       ...       ...   \n",
       "MQN38      0.020393  0.003774 -0.013313 -0.005582 -0.003032  1.000000   \n",
       "MQN39     -0.001439 -0.001325 -0.004890  0.002298 -0.000977 -0.000256   \n",
       "MQN40     -0.005343 -0.006989  0.011191  0.058451 -0.005156 -0.001349   \n",
       "MQN41     -0.001476  0.033061  0.342692  0.469962  0.110257  0.097432   \n",
       "MQN42     -0.007182  0.013804  0.225644  0.368534  0.099484  0.136074   \n",
       "\n",
       "              MQN39     MQN40     MQN41     MQN42  \n",
       "SlogP     -0.002302 -0.034927  0.009296 -0.007719  \n",
       "SMR        0.007788  0.121058  0.303649  0.210573  \n",
       "LabuteASA  0.007726  0.118140  0.301679  0.208551  \n",
       "TPSA       0.010275  0.139989  0.227043  0.165406  \n",
       "AMW        0.007858  0.124947  0.285701  0.199377  \n",
       "...             ...       ...       ...       ...  \n",
       "MQN38     -0.000256 -0.001349  0.097432  0.136074  \n",
       "MQN39      1.000000 -0.000435 -0.003960 -0.002927  \n",
       "MQN40     -0.000435  1.000000  0.343068  0.449946  \n",
       "MQN41     -0.003960  0.343068  1.000000  0.925261  \n",
       "MQN42     -0.002927  0.449946  0.925261  1.000000  \n",
       "\n",
       "[119 rows x 119 columns]"
      ]
     },
     "execution_count": 72,
     "metadata": {},
     "output_type": "execute_result"
    }
   ],
   "source": [
    "corr_matrix  = X.corr()\n",
    "\n",
    "# corr_matrix = [\n",
    "#     [1,2,3],\n",
    "#     [4,5,6]\n",
    "# ]\n",
    "\n",
    "\n",
    "# print(corr_matrix.columns)\n",
    "\n",
    "# print(corr_matrix['SlogP'])\n",
    "# print(corr_matrix['SMR'])\n",
    "\n",
    "### print values wich are > 0.8\n",
    "\n",
    "\n",
    "# corr_matrix.iloc[0:, 0:]\n",
    "\n",
    "# for column in corr_matrix.columns:\n",
    "#     print('*****************************************************')\n",
    "#     print(list(corr_matrix[column]))\n",
    "\n",
    "\n",
    "    \n",
    "corr_matrix"
   ]
  },
  {
   "cell_type": "code",
   "execution_count": 52,
   "metadata": {},
   "outputs": [],
   "source": [
    "# from sklearn.feature_selection import VarianceThreshold\n",
    "\n",
    "# p = 0.2\n",
    "# treshold = p * (1-p)\n",
    "\n",
    "\n",
    "# sel = VarianceThreshold(threshold=0)\n",
    "\n",
    "# sel.fit(X)\n",
    "\n",
    "# mask_retain = sel.get_support()\n",
    "# # print(mask_retain)\n",
    "\n",
    "# indexes_retain = sel.get_support(indices=True)\n",
    "# print(len(indexes_retain))\n",
    "\n",
    "# X_new = sel.transform(X)\n",
    "\n",
    "# # get variances for each column\n",
    "# sel.variances_\n",
    "\n",
    "\n"
   ]
  },
  {
   "cell_type": "code",
   "execution_count": null,
   "metadata": {},
   "outputs": [],
   "source": []
  },
  {
   "cell_type": "code",
   "execution_count": 208,
   "metadata": {},
   "outputs": [],
   "source": [
    "# from sklearn.feature_selection import SelectKBest, f_classif\n",
    "\n",
    "# sel = SelectKBest(f_classif, k=20).fit(X, y)\n",
    "\n",
    "# mask_retain = sel.get_support()\n",
    "# # print(mask_retain)\n",
    "\n",
    "# indexes_retain = sel.get_support(indices=True)\n",
    "# print(indexes_retain)\n",
    "\n",
    "# X_new = sel.transform(X)\n",
    "# X_new.shape\n",
    "\n",
    "\n",
    "\n",
    "# # TODO: map column names to indexes\n",
    "# # df.iloc[:1,indexes_retain]\n",
    "# print(list(df.columns[indexes_retain]))\n"
   ]
  },
  {
   "cell_type": "markdown",
   "metadata": {},
   "source": [
    "## Split data"
   ]
  },
  {
   "cell_type": "code",
   "execution_count": 209,
   "metadata": {},
   "outputs": [],
   "source": [
    "X_train, X_test, y_train, y_test = train_test_split(X_new, y, test_size=0.25, random_state=42)"
   ]
  },
  {
   "cell_type": "markdown",
   "metadata": {},
   "source": [
    "## Fit the Model"
   ]
  },
  {
   "cell_type": "code",
   "execution_count": 210,
   "metadata": {},
   "outputs": [],
   "source": [
    "clf = GaussianNB().fit(X_train, y_train)\n"
   ]
  },
  {
   "cell_type": "markdown",
   "metadata": {},
   "source": [
    "## Evaluate the model"
   ]
  },
  {
   "cell_type": "code",
   "execution_count": 211,
   "metadata": {},
   "outputs": [],
   "source": [
    "y_pred = clf.predict(X_test)"
   ]
  },
  {
   "cell_type": "code",
   "execution_count": 212,
   "metadata": {},
   "outputs": [
    {
     "data": {
      "text/plain": [
       "0.2973953181668315"
      ]
     },
     "execution_count": 212,
     "metadata": {},
     "output_type": "execute_result"
    }
   ],
   "source": [
    "accuracy_score(y_test, y_pred)"
   ]
  },
  {
   "cell_type": "code",
   "execution_count": 150,
   "metadata": {},
   "outputs": [
    {
     "data": {
      "text/plain": [
       "10006    C\n",
       "3693     C\n",
       "7935     C\n",
       "11116    C\n",
       "7604     B\n",
       "Name: AmesResult, dtype: object"
      ]
     },
     "execution_count": 150,
     "metadata": {},
     "output_type": "execute_result"
    }
   ],
   "source": [
    "y_test[:5]"
   ]
  },
  {
   "cell_type": "code",
   "execution_count": 147,
   "metadata": {},
   "outputs": [
    {
     "data": {
      "text/plain": [
       "array([[ 138,    1,   18],\n",
       "       [ 224,    3,   62],\n",
       "       [1555,   33,  999]])"
      ]
     },
     "execution_count": 147,
     "metadata": {},
     "output_type": "execute_result"
    }
   ],
   "source": [
    "confusion_matrix(y_test, y_pred)"
   ]
  },
  {
   "cell_type": "code",
   "execution_count": null,
   "metadata": {},
   "outputs": [],
   "source": []
  }
 ],
 "metadata": {
  "kernelspec": {
   "display_name": "Python 3",
   "language": "python",
   "name": "python3"
  },
  "language_info": {
   "codemirror_mode": {
    "name": "ipython",
    "version": 3
   },
   "file_extension": ".py",
   "mimetype": "text/x-python",
   "name": "python",
   "nbconvert_exporter": "python",
   "pygments_lexer": "ipython3",
   "version": "3.8.2"
  }
 },
 "nbformat": 4,
 "nbformat_minor": 4
}
