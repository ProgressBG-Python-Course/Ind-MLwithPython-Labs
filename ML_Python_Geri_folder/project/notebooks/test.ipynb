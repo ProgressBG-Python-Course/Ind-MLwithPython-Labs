{
 "cells": [
  {
   "cell_type": "code",
   "execution_count": 1,
   "metadata": {},
   "outputs": [],
   "source": [
    "import pandas as pd"
   ]
  },
  {
   "cell_type": "code",
   "execution_count": 2,
   "metadata": {},
   "outputs": [
    {
     "data": {
      "text/html": [
       "<div>\n",
       "<style scoped>\n",
       "    .dataframe tbody tr th:only-of-type {\n",
       "        vertical-align: middle;\n",
       "    }\n",
       "\n",
       "    .dataframe tbody tr th {\n",
       "        vertical-align: top;\n",
       "    }\n",
       "\n",
       "    .dataframe thead th {\n",
       "        text-align: right;\n",
       "    }\n",
       "</style>\n",
       "<table border=\"1\" class=\"dataframe\">\n",
       "  <thead>\n",
       "    <tr style=\"text-align: right;\">\n",
       "      <th></th>\n",
       "      <th>smiles</th>\n",
       "      <th>mp</th>\n",
       "      <th>ALogp2</th>\n",
       "      <th>AMR</th>\n",
       "      <th>apol</th>\n",
       "      <th>naAromAtom</th>\n",
       "      <th>nAromBond</th>\n",
       "      <th>nAtom</th>\n",
       "      <th>nHeavyAtom</th>\n",
       "      <th>nH</th>\n",
       "      <th>...</th>\n",
       "      <th>AMW</th>\n",
       "      <th>WTPT-1</th>\n",
       "      <th>WTPT-2</th>\n",
       "      <th>WTPT-3</th>\n",
       "      <th>WTPT-4</th>\n",
       "      <th>WTPT-5</th>\n",
       "      <th>WPATH</th>\n",
       "      <th>WPOL</th>\n",
       "      <th>XLogP</th>\n",
       "      <th>Zagreb</th>\n",
       "    </tr>\n",
       "  </thead>\n",
       "  <tbody>\n",
       "    <tr>\n",
       "      <th>0</th>\n",
       "      <td>C1(CCC1)C</td>\n",
       "      <td>-161.5050</td>\n",
       "      <td>0.127164</td>\n",
       "      <td>20.3505</td>\n",
       "      <td>15.467930</td>\n",
       "      <td>0</td>\n",
       "      <td>0</td>\n",
       "      <td>15</td>\n",
       "      <td>5</td>\n",
       "      <td>10</td>\n",
       "      <td>...</td>\n",
       "      <td>4.671883</td>\n",
       "      <td>9.414511</td>\n",
       "      <td>1.882902</td>\n",
       "      <td>0.000000</td>\n",
       "      <td>0.0</td>\n",
       "      <td>0.000000</td>\n",
       "      <td>16</td>\n",
       "      <td>1</td>\n",
       "      <td>2.784</td>\n",
       "      <td>22</td>\n",
       "    </tr>\n",
       "    <tr>\n",
       "      <th>1</th>\n",
       "      <td>CN(C)C</td>\n",
       "      <td>-117.0400</td>\n",
       "      <td>0.102464</td>\n",
       "      <td>19.9881</td>\n",
       "      <td>12.381137</td>\n",
       "      <td>0</td>\n",
       "      <td>0</td>\n",
       "      <td>13</td>\n",
       "      <td>4</td>\n",
       "      <td>9</td>\n",
       "      <td>...</td>\n",
       "      <td>4.544115</td>\n",
       "      <td>6.732051</td>\n",
       "      <td>1.683013</td>\n",
       "      <td>2.732051</td>\n",
       "      <td>0.0</td>\n",
       "      <td>2.732051</td>\n",
       "      <td>9</td>\n",
       "      <td>0</td>\n",
       "      <td>0.063</td>\n",
       "      <td>12</td>\n",
       "    </tr>\n",
       "    <tr>\n",
       "      <th>2</th>\n",
       "      <td>ClC(Cl)(Cl)Cl</td>\n",
       "      <td>-22.9875</td>\n",
       "      <td>12.849357</td>\n",
       "      <td>26.8490</td>\n",
       "      <td>10.480000</td>\n",
       "      <td>0</td>\n",
       "      <td>0</td>\n",
       "      <td>5</td>\n",
       "      <td>5</td>\n",
       "      <td>0</td>\n",
       "      <td>...</td>\n",
       "      <td>30.375082</td>\n",
       "      <td>8.500000</td>\n",
       "      <td>1.700000</td>\n",
       "      <td>9.000000</td>\n",
       "      <td>0.0</td>\n",
       "      <td>0.000000</td>\n",
       "      <td>16</td>\n",
       "      <td>0</td>\n",
       "      <td>2.864</td>\n",
       "      <td>20</td>\n",
       "    </tr>\n",
       "    <tr>\n",
       "      <th>3</th>\n",
       "      <td>C#C</td>\n",
       "      <td>-80.7500</td>\n",
       "      <td>0.882472</td>\n",
       "      <td>6.9650</td>\n",
       "      <td>4.853586</td>\n",
       "      <td>0</td>\n",
       "      <td>0</td>\n",
       "      <td>4</td>\n",
       "      <td>2</td>\n",
       "      <td>2</td>\n",
       "      <td>...</td>\n",
       "      <td>6.503913</td>\n",
       "      <td>3.000000</td>\n",
       "      <td>1.500000</td>\n",
       "      <td>0.000000</td>\n",
       "      <td>0.0</td>\n",
       "      <td>0.000000</td>\n",
       "      <td>1</td>\n",
       "      <td>0</td>\n",
       "      <td>0.418</td>\n",
       "      <td>2</td>\n",
       "    </tr>\n",
       "    <tr>\n",
       "      <th>4</th>\n",
       "      <td>C(=C(Cl)Cl)(C(Cl)(Cl)Cl)Cl</td>\n",
       "      <td>-72.9500</td>\n",
       "      <td>12.286427</td>\n",
       "      <td>46.2872</td>\n",
       "      <td>18.360000</td>\n",
       "      <td>0</td>\n",
       "      <td>0</td>\n",
       "      <td>9</td>\n",
       "      <td>9</td>\n",
       "      <td>0</td>\n",
       "      <td>...</td>\n",
       "      <td>27.312568</td>\n",
       "      <td>16.104985</td>\n",
       "      <td>1.789443</td>\n",
       "      <td>14.108974</td>\n",
       "      <td>0.0</td>\n",
       "      <td>0.000000</td>\n",
       "      <td>86</td>\n",
       "      <td>10</td>\n",
       "      <td>3.603</td>\n",
       "      <td>40</td>\n",
       "    </tr>\n",
       "  </tbody>\n",
       "</table>\n",
       "<p>5 rows × 1444 columns</p>\n",
       "</div>"
      ],
      "text/plain": [
       "                       smiles        mp     ALogp2      AMR       apol  \\\n",
       "0                   C1(CCC1)C -161.5050   0.127164  20.3505  15.467930   \n",
       "1                      CN(C)C -117.0400   0.102464  19.9881  12.381137   \n",
       "2               ClC(Cl)(Cl)Cl  -22.9875  12.849357  26.8490  10.480000   \n",
       "3                         C#C  -80.7500   0.882472   6.9650   4.853586   \n",
       "4  C(=C(Cl)Cl)(C(Cl)(Cl)Cl)Cl  -72.9500  12.286427  46.2872  18.360000   \n",
       "\n",
       "   naAromAtom  nAromBond  nAtom  nHeavyAtom  nH  ...        AMW     WTPT-1  \\\n",
       "0           0          0     15           5  10  ...   4.671883   9.414511   \n",
       "1           0          0     13           4   9  ...   4.544115   6.732051   \n",
       "2           0          0      5           5   0  ...  30.375082   8.500000   \n",
       "3           0          0      4           2   2  ...   6.503913   3.000000   \n",
       "4           0          0      9           9   0  ...  27.312568  16.104985   \n",
       "\n",
       "     WTPT-2     WTPT-3  WTPT-4    WTPT-5  WPATH  WPOL  XLogP  Zagreb  \n",
       "0  1.882902   0.000000     0.0  0.000000     16     1  2.784      22  \n",
       "1  1.683013   2.732051     0.0  2.732051      9     0  0.063      12  \n",
       "2  1.700000   9.000000     0.0  0.000000     16     0  2.864      20  \n",
       "3  1.500000   0.000000     0.0  0.000000      1     0  0.418       2  \n",
       "4  1.789443  14.108974     0.0  0.000000     86    10  3.603      40  \n",
       "\n",
       "[5 rows x 1444 columns]"
      ]
     },
     "execution_count": 2,
     "metadata": {},
     "output_type": "execute_result"
    }
   ],
   "source": [
    "ons_decs = pd.read_csv('../datasets/mp_ONS_decsriptors_v3.csv')\n",
    "ons_decs.head(5)\n"
   ]
  },
  {
   "cell_type": "code",
   "execution_count": 5,
   "metadata": {},
   "outputs": [
    {
     "data": {
      "text/plain": [
       "pandas.core.series.Series"
      ]
     },
     "execution_count": 5,
     "metadata": {},
     "output_type": "execute_result"
    }
   ],
   "source": [
    "fc=ons_decs['smiles']\n",
    "type(fc)"
   ]
  },
  {
   "cell_type": "code",
   "execution_count": 6,
   "metadata": {},
   "outputs": [
    {
     "data": {
      "text/html": [
       "<div>\n",
       "<style scoped>\n",
       "    .dataframe tbody tr th:only-of-type {\n",
       "        vertical-align: middle;\n",
       "    }\n",
       "\n",
       "    .dataframe tbody tr th {\n",
       "        vertical-align: top;\n",
       "    }\n",
       "\n",
       "    .dataframe thead th {\n",
       "        text-align: right;\n",
       "    }\n",
       "</style>\n",
       "<table border=\"1\" class=\"dataframe\">\n",
       "  <thead>\n",
       "    <tr style=\"text-align: right;\">\n",
       "      <th></th>\n",
       "      <th>#</th>\n",
       "      <th>CSID</th>\n",
       "      <th>Low °C</th>\n",
       "      <th>High °C</th>\n",
       "      <th>Ave °C</th>\n",
       "      <th>SMILES</th>\n",
       "      <th>name</th>\n",
       "      <th>range</th>\n",
       "    </tr>\n",
       "  </thead>\n",
       "  <tbody>\n",
       "    <tr>\n",
       "      <th>0</th>\n",
       "      <td>2</td>\n",
       "      <td>11232</td>\n",
       "      <td>-161.51</td>\n",
       "      <td>-161.50</td>\n",
       "      <td>-161.5050</td>\n",
       "      <td>C1(CCC1)C</td>\n",
       "      <td>methylcyclobutane</td>\n",
       "      <td>0.01</td>\n",
       "    </tr>\n",
       "    <tr>\n",
       "      <th>1</th>\n",
       "      <td>2</td>\n",
       "      <td>1114</td>\n",
       "      <td>-117.08</td>\n",
       "      <td>-117.00</td>\n",
       "      <td>-117.0400</td>\n",
       "      <td>CN(C)C</td>\n",
       "      <td>n,n-dimethylmethanamine</td>\n",
       "      <td>0.08</td>\n",
       "    </tr>\n",
       "    <tr>\n",
       "      <th>2</th>\n",
       "      <td>8</td>\n",
       "      <td>5730</td>\n",
       "      <td>-23.00</td>\n",
       "      <td>-22.92</td>\n",
       "      <td>-22.9875</td>\n",
       "      <td>ClC(Cl)(Cl)Cl</td>\n",
       "      <td>tetrachloromethane</td>\n",
       "      <td>0.08</td>\n",
       "    </tr>\n",
       "  </tbody>\n",
       "</table>\n",
       "</div>"
      ],
      "text/plain": [
       "   #   CSID  Low °C  High °C    Ave °C         SMILES  \\\n",
       "0  2  11232 -161.51  -161.50 -161.5050      C1(CCC1)C   \n",
       "1  2   1114 -117.08  -117.00 -117.0400         CN(C)C   \n",
       "2  8   5730  -23.00   -22.92  -22.9875  ClC(Cl)(Cl)Cl   \n",
       "\n",
       "                      name  range  \n",
       "0        methylcyclobutane   0.01  \n",
       "1  n,n-dimethylmethanamine   0.08  \n",
       "2       tetrachloromethane   0.08  "
      ]
     },
     "execution_count": 6,
     "metadata": {},
     "output_type": "execute_result"
    }
   ],
   "source": [
    "ons_origin = pd.read_csv('../datasets/ONSMeltingPointsDoubleValidated_origin_.csv', encoding='latin1')\n",
    "ons_origin.head(3)"
   ]
  },
  {
   "cell_type": "code",
   "execution_count": 16,
   "metadata": {},
   "outputs": [
    {
     "data": {
      "text/plain": [
       "(2706, 8)"
      ]
     },
     "execution_count": 16,
     "metadata": {},
     "output_type": "execute_result"
    }
   ],
   "source": [
    "ons_origin.shape"
   ]
  },
  {
   "cell_type": "code",
   "execution_count": 21,
   "metadata": {},
   "outputs": [
    {
     "data": {
      "text/plain": [
       "c1cc(cc(c1)Cl)C(=O)N             False\n",
       "c1c(cc(c(c1I)O)I)[N+](=O)[O-]    False\n",
       "c1ccc2c(c1)CC=C2                 False\n",
       "Name: SMILES, dtype: bool"
      ]
     },
     "execution_count": 21,
     "metadata": {},
     "output_type": "execute_result"
    }
   ],
   "source": [
    "mask=ons_origin.SMILES.value_counts()>1\n",
    "mask.head(3)\n",
    "#mask.shape"
   ]
  },
  {
   "cell_type": "code",
   "execution_count": 22,
   "metadata": {},
   "outputs": [
    {
     "data": {
      "text/plain": [
       "0        C1(CCC1)C\n",
       "1           CN(C)C\n",
       "2    ClC(Cl)(Cl)Cl\n",
       "3              C#C\n",
       "Name: SMILES, dtype: object"
      ]
     },
     "execution_count": 22,
     "metadata": {},
     "output_type": "execute_result"
    }
   ],
   "source": [
    "ons_origin.loc[0:3,'SMILES']"
   ]
  }
 ],
 "metadata": {
  "kernelspec": {
   "display_name": "Python 3",
   "language": "python",
   "name": "python3"
  },
  "language_info": {
   "codemirror_mode": {
    "name": "ipython",
    "version": 3
   },
   "file_extension": ".py",
   "mimetype": "text/x-python",
   "name": "python",
   "nbconvert_exporter": "python",
   "pygments_lexer": "ipython3",
   "version": "3.8.2"
  }
 },
 "nbformat": 4,
 "nbformat_minor": 4
}
