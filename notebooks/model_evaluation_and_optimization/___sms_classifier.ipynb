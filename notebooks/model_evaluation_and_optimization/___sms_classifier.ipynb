{
 "cells": [
  {
   "cell_type": "markdown",
   "metadata": {},
   "source": [
    "# SMS Message Ham/Spam Detection"
   ]
  },
  {
   "cell_type": "markdown",
   "metadata": {},
   "source": [
    "In this project, I have explored and compared text preprocessing and feature selection methods among word count, character count, bag of words, removing stop words, stemming, and Lemmatization. Logistic regression classifier is used to detect ham or spam SMS messages. The dataset is a collection of 5,574 text messages in English, taggled according being ham (legitimate) or spam. The originate dataset can be found at https://archive.ics.uci.edu/ml/datasets/SMS+Spam+Collection."
   ]
  },
  {
   "cell_type": "markdown",
   "metadata": {},
   "source": [
    "### Import modules and load dataset. "
   ]
  },
  {
   "cell_type": "code",
   "execution_count": 25,
   "metadata": {
    "scrolled": true
   },
   "outputs": [
    {
     "name": "stdout",
     "output_type": "stream",
     "text": [
      "(5572, 5)\n"
     ]
    },
    {
     "data": {
      "text/html": [
       "<div>\n",
       "<style scoped>\n",
       "    .dataframe tbody tr th:only-of-type {\n",
       "        vertical-align: middle;\n",
       "    }\n",
       "\n",
       "    .dataframe tbody tr th {\n",
       "        vertical-align: top;\n",
       "    }\n",
       "\n",
       "    .dataframe thead th {\n",
       "        text-align: right;\n",
       "    }\n",
       "</style>\n",
       "<table border=\"1\" class=\"dataframe\">\n",
       "  <thead>\n",
       "    <tr style=\"text-align: right;\">\n",
       "      <th></th>\n",
       "      <th>v1</th>\n",
       "      <th>v2</th>\n",
       "      <th>Unnamed: 2</th>\n",
       "      <th>Unnamed: 3</th>\n",
       "      <th>Unnamed: 4</th>\n",
       "    </tr>\n",
       "  </thead>\n",
       "  <tbody>\n",
       "    <tr>\n",
       "      <th>0</th>\n",
       "      <td>ham</td>\n",
       "      <td>Go until jurong point, crazy.. Available only ...</td>\n",
       "      <td>NaN</td>\n",
       "      <td>NaN</td>\n",
       "      <td>NaN</td>\n",
       "    </tr>\n",
       "    <tr>\n",
       "      <th>1</th>\n",
       "      <td>ham</td>\n",
       "      <td>Ok lar... Joking wif u oni...</td>\n",
       "      <td>NaN</td>\n",
       "      <td>NaN</td>\n",
       "      <td>NaN</td>\n",
       "    </tr>\n",
       "    <tr>\n",
       "      <th>2</th>\n",
       "      <td>spam</td>\n",
       "      <td>Free entry in 2 a wkly comp to win FA Cup fina...</td>\n",
       "      <td>NaN</td>\n",
       "      <td>NaN</td>\n",
       "      <td>NaN</td>\n",
       "    </tr>\n",
       "    <tr>\n",
       "      <th>3</th>\n",
       "      <td>ham</td>\n",
       "      <td>U dun say so early hor... U c already then say...</td>\n",
       "      <td>NaN</td>\n",
       "      <td>NaN</td>\n",
       "      <td>NaN</td>\n",
       "    </tr>\n",
       "    <tr>\n",
       "      <th>4</th>\n",
       "      <td>ham</td>\n",
       "      <td>Nah I don't think he goes to usf, he lives aro...</td>\n",
       "      <td>NaN</td>\n",
       "      <td>NaN</td>\n",
       "      <td>NaN</td>\n",
       "    </tr>\n",
       "    <tr>\n",
       "      <th>5</th>\n",
       "      <td>spam</td>\n",
       "      <td>FreeMsg Hey there darling it's been 3 week's n...</td>\n",
       "      <td>NaN</td>\n",
       "      <td>NaN</td>\n",
       "      <td>NaN</td>\n",
       "    </tr>\n",
       "    <tr>\n",
       "      <th>6</th>\n",
       "      <td>ham</td>\n",
       "      <td>Even my brother is not like to speak with me. ...</td>\n",
       "      <td>NaN</td>\n",
       "      <td>NaN</td>\n",
       "      <td>NaN</td>\n",
       "    </tr>\n",
       "    <tr>\n",
       "      <th>7</th>\n",
       "      <td>ham</td>\n",
       "      <td>As per your request 'Melle Melle (Oru Minnamin...</td>\n",
       "      <td>NaN</td>\n",
       "      <td>NaN</td>\n",
       "      <td>NaN</td>\n",
       "    </tr>\n",
       "    <tr>\n",
       "      <th>8</th>\n",
       "      <td>spam</td>\n",
       "      <td>WINNER!! As a valued network customer you have...</td>\n",
       "      <td>NaN</td>\n",
       "      <td>NaN</td>\n",
       "      <td>NaN</td>\n",
       "    </tr>\n",
       "    <tr>\n",
       "      <th>9</th>\n",
       "      <td>spam</td>\n",
       "      <td>Had your mobile 11 months or more? U R entitle...</td>\n",
       "      <td>NaN</td>\n",
       "      <td>NaN</td>\n",
       "      <td>NaN</td>\n",
       "    </tr>\n",
       "    <tr>\n",
       "      <th>10</th>\n",
       "      <td>ham</td>\n",
       "      <td>I'm gonna be home soon and i don't want to tal...</td>\n",
       "      <td>NaN</td>\n",
       "      <td>NaN</td>\n",
       "      <td>NaN</td>\n",
       "    </tr>\n",
       "    <tr>\n",
       "      <th>11</th>\n",
       "      <td>spam</td>\n",
       "      <td>SIX chances to win CASH! From 100 to 20,000 po...</td>\n",
       "      <td>NaN</td>\n",
       "      <td>NaN</td>\n",
       "      <td>NaN</td>\n",
       "    </tr>\n",
       "    <tr>\n",
       "      <th>12</th>\n",
       "      <td>spam</td>\n",
       "      <td>URGENT! You have won a 1 week FREE membership ...</td>\n",
       "      <td>NaN</td>\n",
       "      <td>NaN</td>\n",
       "      <td>NaN</td>\n",
       "    </tr>\n",
       "    <tr>\n",
       "      <th>13</th>\n",
       "      <td>ham</td>\n",
       "      <td>I've been searching for the right words to tha...</td>\n",
       "      <td>NaN</td>\n",
       "      <td>NaN</td>\n",
       "      <td>NaN</td>\n",
       "    </tr>\n",
       "    <tr>\n",
       "      <th>14</th>\n",
       "      <td>ham</td>\n",
       "      <td>I HAVE A DATE ON SUNDAY WITH WILL!!</td>\n",
       "      <td>NaN</td>\n",
       "      <td>NaN</td>\n",
       "      <td>NaN</td>\n",
       "    </tr>\n",
       "    <tr>\n",
       "      <th>15</th>\n",
       "      <td>spam</td>\n",
       "      <td>XXXMobileMovieClub: To use your credit, click ...</td>\n",
       "      <td>NaN</td>\n",
       "      <td>NaN</td>\n",
       "      <td>NaN</td>\n",
       "    </tr>\n",
       "    <tr>\n",
       "      <th>16</th>\n",
       "      <td>ham</td>\n",
       "      <td>Oh k...i'm watching here:)</td>\n",
       "      <td>NaN</td>\n",
       "      <td>NaN</td>\n",
       "      <td>NaN</td>\n",
       "    </tr>\n",
       "    <tr>\n",
       "      <th>17</th>\n",
       "      <td>ham</td>\n",
       "      <td>Eh u remember how 2 spell his name... Yes i di...</td>\n",
       "      <td>NaN</td>\n",
       "      <td>NaN</td>\n",
       "      <td>NaN</td>\n",
       "    </tr>\n",
       "    <tr>\n",
       "      <th>18</th>\n",
       "      <td>ham</td>\n",
       "      <td>Fine if thatï¿½ï¿½s the way u feel. Thatï¿½ï¿½...</td>\n",
       "      <td>NaN</td>\n",
       "      <td>NaN</td>\n",
       "      <td>NaN</td>\n",
       "    </tr>\n",
       "    <tr>\n",
       "      <th>19</th>\n",
       "      <td>spam</td>\n",
       "      <td>England v Macedonia - dont miss the goals/team...</td>\n",
       "      <td>NaN</td>\n",
       "      <td>NaN</td>\n",
       "      <td>NaN</td>\n",
       "    </tr>\n",
       "  </tbody>\n",
       "</table>\n",
       "</div>"
      ],
      "text/plain": [
       "      v1                                                 v2 Unnamed: 2  \\\n",
       "0    ham  Go until jurong point, crazy.. Available only ...        NaN   \n",
       "1    ham                      Ok lar... Joking wif u oni...        NaN   \n",
       "2   spam  Free entry in 2 a wkly comp to win FA Cup fina...        NaN   \n",
       "3    ham  U dun say so early hor... U c already then say...        NaN   \n",
       "4    ham  Nah I don't think he goes to usf, he lives aro...        NaN   \n",
       "5   spam  FreeMsg Hey there darling it's been 3 week's n...        NaN   \n",
       "6    ham  Even my brother is not like to speak with me. ...        NaN   \n",
       "7    ham  As per your request 'Melle Melle (Oru Minnamin...        NaN   \n",
       "8   spam  WINNER!! As a valued network customer you have...        NaN   \n",
       "9   spam  Had your mobile 11 months or more? U R entitle...        NaN   \n",
       "10   ham  I'm gonna be home soon and i don't want to tal...        NaN   \n",
       "11  spam  SIX chances to win CASH! From 100 to 20,000 po...        NaN   \n",
       "12  spam  URGENT! You have won a 1 week FREE membership ...        NaN   \n",
       "13   ham  I've been searching for the right words to tha...        NaN   \n",
       "14   ham                I HAVE A DATE ON SUNDAY WITH WILL!!        NaN   \n",
       "15  spam  XXXMobileMovieClub: To use your credit, click ...        NaN   \n",
       "16   ham                         Oh k...i'm watching here:)        NaN   \n",
       "17   ham  Eh u remember how 2 spell his name... Yes i di...        NaN   \n",
       "18   ham  Fine if thatï¿½ï¿½s the way u feel. Thatï¿½ï¿½...        NaN   \n",
       "19  spam  England v Macedonia - dont miss the goals/team...        NaN   \n",
       "\n",
       "   Unnamed: 3 Unnamed: 4  \n",
       "0         NaN        NaN  \n",
       "1         NaN        NaN  \n",
       "2         NaN        NaN  \n",
       "3         NaN        NaN  \n",
       "4         NaN        NaN  \n",
       "5         NaN        NaN  \n",
       "6         NaN        NaN  \n",
       "7         NaN        NaN  \n",
       "8         NaN        NaN  \n",
       "9         NaN        NaN  \n",
       "10        NaN        NaN  \n",
       "11        NaN        NaN  \n",
       "12        NaN        NaN  \n",
       "13        NaN        NaN  \n",
       "14        NaN        NaN  \n",
       "15        NaN        NaN  \n",
       "16        NaN        NaN  \n",
       "17        NaN        NaN  \n",
       "18        NaN        NaN  \n",
       "19        NaN        NaN  "
      ]
     },
     "execution_count": 25,
     "metadata": {},
     "output_type": "execute_result"
    }
   ],
   "source": [
    "#import modules\n",
    "import pandas as pd\n",
    "import numpy as np\n",
    "import matplotlib.pyplot as plt\n",
    "%matplotlib inline\n",
    "\n",
    "#load data and view data\n",
    "sms = pd.read_csv('spam.csv', sep=',', encoding='Latin-1')\n",
    "print(sms.shape)\n",
    "sms.head(20)\n"
   ]
  },
  {
   "cell_type": "markdown",
   "metadata": {},
   "source": [
    "### Remove empty columns and give existing columns meaningful names."
   ]
  },
  {
   "cell_type": "code",
   "execution_count": 2,
   "metadata": {
    "scrolled": true
   },
   "outputs": [
    {
     "name": "stdout",
     "output_type": "stream",
     "text": [
      "(5572, 2)\n"
     ]
    },
    {
     "data": {
      "text/html": [
       "<div>\n",
       "<style scoped>\n",
       "    .dataframe tbody tr th:only-of-type {\n",
       "        vertical-align: middle;\n",
       "    }\n",
       "\n",
       "    .dataframe tbody tr th {\n",
       "        vertical-align: top;\n",
       "    }\n",
       "\n",
       "    .dataframe thead th {\n",
       "        text-align: right;\n",
       "    }\n",
       "</style>\n",
       "<table border=\"1\" class=\"dataframe\">\n",
       "  <thead>\n",
       "    <tr style=\"text-align: right;\">\n",
       "      <th></th>\n",
       "      <th>label</th>\n",
       "      <th>texts</th>\n",
       "    </tr>\n",
       "  </thead>\n",
       "  <tbody>\n",
       "    <tr>\n",
       "      <th>0</th>\n",
       "      <td>ham</td>\n",
       "      <td>Go until jurong point, crazy.. Available only ...</td>\n",
       "    </tr>\n",
       "    <tr>\n",
       "      <th>1</th>\n",
       "      <td>ham</td>\n",
       "      <td>Ok lar... Joking wif u oni...</td>\n",
       "    </tr>\n",
       "    <tr>\n",
       "      <th>2</th>\n",
       "      <td>spam</td>\n",
       "      <td>Free entry in 2 a wkly comp to win FA Cup fina...</td>\n",
       "    </tr>\n",
       "    <tr>\n",
       "      <th>3</th>\n",
       "      <td>ham</td>\n",
       "      <td>U dun say so early hor... U c already then say...</td>\n",
       "    </tr>\n",
       "    <tr>\n",
       "      <th>4</th>\n",
       "      <td>ham</td>\n",
       "      <td>Nah I don't think he goes to usf, he lives aro...</td>\n",
       "    </tr>\n",
       "  </tbody>\n",
       "</table>\n",
       "</div>"
      ],
      "text/plain": [
       "  label                                              texts\n",
       "0   ham  Go until jurong point, crazy.. Available only ...\n",
       "1   ham                      Ok lar... Joking wif u oni...\n",
       "2  spam  Free entry in 2 a wkly comp to win FA Cup fina...\n",
       "3   ham  U dun say so early hor... U c already then say...\n",
       "4   ham  Nah I don't think he goes to usf, he lives aro..."
      ]
     },
     "execution_count": 2,
     "metadata": {},
     "output_type": "execute_result"
    }
   ],
   "source": [
    "#drop meaningless columns\n",
    "sms = sms.drop(['Unnamed: 2', 'Unnamed: 3', 'Unnamed: 4'], axis=1)\n",
    "#give meaningful names for exist columns\n",
    "sms.columns = ['label', 'texts']\n",
    "#view data\n",
    "print(sms.shape)\n",
    "sms.head()"
   ]
  },
  {
   "cell_type": "markdown",
   "metadata": {},
   "source": [
    "### Exploratory data analysis."
   ]
  },
  {
   "cell_type": "markdown",
   "metadata": {},
   "source": [
    "Distribution by label: Ham count is more than five times as many as spam. "
   ]
  },
  {
   "cell_type": "code",
   "execution_count": 3,
   "metadata": {
    "scrolled": true
   },
   "outputs": [
    {
     "name": "stderr",
     "output_type": "stream",
     "text": [
      "/home/nemsys/projects/courses/ProgressBG/ProgressBG-MLwithPython/ProgressBG-MLwithPython-Code/.venv/lib/python3.7/site-packages/pandas/plotting/_core.py:194: UserWarning: 'colors' is being deprecated. Please use 'color'instead of 'colors'\n",
      "  warnings.warn((\"'colors' is being deprecated. Please use 'color'\"\n"
     ]
    },
    {
     "data": {
      "image/png": "[encoded data removed]",
      "text/plain": [
       "<Figure size 432x288 with 1 Axes>"
      ]
     },
     "metadata": {
      "needs_background": "light"
     },
     "output_type": "display_data"
    }
   ],
   "source": [
    "#visualize ham vs spam counts\n",
    "fig = plt.figure()\n",
    "ax = fig.add_subplot(111)\n",
    "sms['label'].value_counts().plot(kind='bar', colors = '#1f77b4', alpha=0.5, grid=True)\n",
    "plt.ylabel('counts')\n",
    "plt.title('ham vs spam counts')\n",
    "plt.xticks(rotation='horizontal')\n",
    "ax.xaxis.grid(which=\"major\")\n",
    "ax.spines['top'].set_visible(False)\n",
    "ax.spines['right'].set_visible(False)\n",
    "for p in ax.patches:\n",
    "    ax.annotate(np.round(p.get_height(),decimals=2), (p.get_x()+p.get_width()/2., p.get_height()), ha='center', va='center')"
   ]
  },
  {
   "cell_type": "markdown",
   "metadata": {},
   "source": [
    "Now let's look into texts. Lowering cases and striping punctuations will make text an easier string format. To discover anything interesting, I start by counting number of words (\"word_count\") and number of characters (\"char_count\") appeared in each SMS message."
   ]
  },
  {
   "cell_type": "code",
   "execution_count": 4,
   "metadata": {
    "scrolled": true
   },
   "outputs": [
    {
     "name": "stdout",
     "output_type": "stream",
     "text": [
      "(5572, 4)\n"
     ]
    },
    {
     "data": {
      "text/html": [
       "<div>\n",
       "<style scoped>\n",
       "    .dataframe tbody tr th:only-of-type {\n",
       "        vertical-align: middle;\n",
       "    }\n",
       "\n",
       "    .dataframe tbody tr th {\n",
       "        vertical-align: top;\n",
       "    }\n",
       "\n",
       "    .dataframe thead th {\n",
       "        text-align: right;\n",
       "    }\n",
       "</style>\n",
       "<table border=\"1\" class=\"dataframe\">\n",
       "  <thead>\n",
       "    <tr style=\"text-align: right;\">\n",
       "      <th></th>\n",
       "      <th>label</th>\n",
       "      <th>texts</th>\n",
       "      <th>word_count</th>\n",
       "      <th>char_count</th>\n",
       "    </tr>\n",
       "  </thead>\n",
       "  <tbody>\n",
       "    <tr>\n",
       "      <th>0</th>\n",
       "      <td>ham</td>\n",
       "      <td>go until jurong point crazy available only in ...</td>\n",
       "      <td>20</td>\n",
       "      <td>102</td>\n",
       "    </tr>\n",
       "    <tr>\n",
       "      <th>1</th>\n",
       "      <td>ham</td>\n",
       "      <td>ok lar joking wif u oni</td>\n",
       "      <td>6</td>\n",
       "      <td>23</td>\n",
       "    </tr>\n",
       "    <tr>\n",
       "      <th>2</th>\n",
       "      <td>spam</td>\n",
       "      <td>free entry in 2 a wkly comp to win fa cup fina...</td>\n",
       "      <td>28</td>\n",
       "      <td>149</td>\n",
       "    </tr>\n",
       "    <tr>\n",
       "      <th>3</th>\n",
       "      <td>ham</td>\n",
       "      <td>u dun say so early hor u c already then say</td>\n",
       "      <td>11</td>\n",
       "      <td>43</td>\n",
       "    </tr>\n",
       "    <tr>\n",
       "      <th>4</th>\n",
       "      <td>ham</td>\n",
       "      <td>nah i dont think he goes to usf he lives aroun...</td>\n",
       "      <td>13</td>\n",
       "      <td>59</td>\n",
       "    </tr>\n",
       "  </tbody>\n",
       "</table>\n",
       "</div>"
      ],
      "text/plain": [
       "  label                                              texts  word_count  \\\n",
       "0   ham  go until jurong point crazy available only in ...          20   \n",
       "1   ham                            ok lar joking wif u oni           6   \n",
       "2  spam  free entry in 2 a wkly comp to win fa cup fina...          28   \n",
       "3   ham        u dun say so early hor u c already then say          11   \n",
       "4   ham  nah i dont think he goes to usf he lives aroun...          13   \n",
       "\n",
       "   char_count  \n",
       "0         102  \n",
       "1          23  \n",
       "2         149  \n",
       "3          43  \n",
       "4          59  "
      ]
     },
     "execution_count": 4,
     "metadata": {},
     "output_type": "execute_result"
    }
   ],
   "source": [
    "#lowering case characters and stripping punctuation of texts\n",
    "from string import punctuation\n",
    "def preprocess1 (str):\n",
    "    \"\"\" str --> str\n",
    "    lower case and strip punctuations of a string\n",
    "    \"\"\"\n",
    "    for p in list(punctuation):\n",
    "        str = str.lower().replace(p, '')\n",
    "    return str\n",
    "sms['texts'] = sms.texts.apply(preprocess1)\n",
    "\n",
    "#creating word count feature as \"word_count\"\n",
    "def word_count (str):\n",
    "    \"\"\"str --> int\n",
    "    return the number of words appeared in a string\n",
    "    \"\"\"\n",
    "    return len(str.split())\n",
    "sms['word_count'] = sms.texts.apply(word_count)\n",
    "\n",
    "#creating character count feature as \"char_count\"\n",
    "def char_count (str):\n",
    "    \"\"\" str --> int\n",
    "    return the number of character count of a string\n",
    "    \"\"\"\n",
    "    return len(list(str))\n",
    "sms['char_count'] = sms.texts.apply(char_count)\n",
    "\n",
    "#vew new data set\n",
    "print(sms.shape)\n",
    "sms.head()"
   ]
  },
  {
   "cell_type": "markdown",
   "metadata": {},
   "source": [
    "Let's visualize distribution pattern of word count by plotting a normalized histgram. Something interesting discovered when we split ham and spam. Spam messages are in general consists of more words! That also makes sense from real life experience. "
   ]
  },
  {
   "cell_type": "code",
   "execution_count": 5,
   "metadata": {},
   "outputs": [
    {
     "name": "stderr",
     "output_type": "stream",
     "text": [
      "/home/nemsys/projects/courses/ProgressBG/ProgressBG-MLwithPython/ProgressBG-MLwithPython-Code/.venv/lib/python3.7/site-packages/matplotlib/axes/_axes.py:6521: MatplotlibDeprecationWarning: \n",
      "The 'normed' kwarg was deprecated in Matplotlib 2.1 and will be removed in 3.1. Use 'density' instead.\n",
      "  alternative=\"'density'\", removal=\"3.1\")\n"
     ]
    },
    {
     "data": {
      "image/png": "[encoded data removed]",
      "text/plain": [
       "<Figure size 432x576 with 2 Axes>"
      ]
     },
     "metadata": {
      "needs_background": "light"
     },
     "output_type": "display_data"
    }
   ],
   "source": [
    "#visualize word_count\n",
    "fig = plt.figure(figsize=(6,8))\n",
    "ax1 = fig.add_subplot(2, 1, 1)\n",
    "ax1.hist(sms['word_count'], normed=True, bins=60, color='#1f77b4', alpha=0.5)\n",
    "plt.xlim(0,65)\n",
    "plt.xlabel('Word Count')\n",
    "plt.ylabel('Probability')\n",
    "plt.title('Word Count: Total')\n",
    "ax1.spines['top'].set_visible(False)\n",
    "ax1.spines['right'].set_visible(False)\n",
    "\n",
    "ax2 = fig.add_subplot(2, 1, 2)\n",
    "bins = np.histogram(np.hstack((sms.loc[sms.label=='ham']['word_count'], sms.loc[sms.label=='spam']['word_count'])), bins=70)[1]\n",
    "plt.hist(sms.loc[sms.label=='ham']['word_count'], bins, normed=True, color='#17becf', alpha=0.8, label='ham')\n",
    "plt.hist(sms.loc[sms.label=='spam']['word_count'], bins, normed=True, color='#ff7f0e', alpha=0.8, label='spam')\n",
    "plt.legend(loc='upper right')\n",
    "plt.xlim(0, 60)\n",
    "plt.xlabel('Word Count: ham vs spam')\n",
    "plt.ylabel('Probability')\n",
    "plt.title('Word Count: Ham vs Spam')\n",
    "\n",
    "ax2.spines['top'].set_visible(False)\n",
    "ax2.spines['right'].set_visible(False)\n",
    "plt.subplots_adjust(hspace=0.5)"
   ]
  },
  {
   "cell_type": "markdown",
   "metadata": {},
   "source": [
    "#### Statistical Inferance for Word Count. \n",
    "\n",
    "If we can confirm the ham sample and spam sample come from populations that are normally distributed, we can use t-test to test if spam messages has significantly greater word count than ham messages.\n",
    "\n",
    "There's a Shapiro-Wilk test to test for normality. If p-value is less than 0.05, then there's a low chance that the distribution is normal."
   ]
  },
  {
   "cell_type": "code",
   "execution_count": 6,
   "metadata": {},
   "outputs": [
    {
     "name": "stdout",
     "output_type": "stream",
     "text": [
      "Shapiro-Wilk test results for ham sample: (0.7642550468444824, 0.0)\n",
      "Shapiro-Wilk test results for spam sample (0.9082188010215759, 8.483587788357293e-21)\n"
     ]
    }
   ],
   "source": [
    "ham_word_count = sms.loc[sms.label=='ham']['word_count']\n",
    "spam_word_count = sms.loc[sms.label=='spam']['word_count']\n",
    "from scipy import stats\n",
    "print (\"Shapiro-Wilk test results for ham sample:\", stats.shapiro(ham_word_count))\n",
    "print (\"Shapiro-Wilk test results for spam sample\", stats.shapiro(spam_word_count)) "
   ]
  },
  {
   "cell_type": "code",
   "execution_count": 7,
   "metadata": {},
   "outputs": [
    {
     "name": "stdout",
     "output_type": "stream",
     "text": [
      "mean-ham: 13.992538860103627\n",
      "mean-spam: 23.552878179384205\n"
     ]
    }
   ],
   "source": [
    "print ('mean-ham:', ham_word_count.mean())\n",
    "print ('mean-spam:', spam_word_count.mean())"
   ]
  },
  {
   "cell_type": "code",
   "execution_count": 8,
   "metadata": {
    "scrolled": true
   },
   "outputs": [
    {
     "name": "stdout",
     "output_type": "stream",
     "text": [
      "stand-deviation-ham: 11.159106107979188\n",
      "stand-deviation-spam: 5.721492019351167\n"
     ]
    }
   ],
   "source": [
    "print('stand-deviation-ham:', ham_word_count.std())\n",
    "print('stand-deviation-spam:', spam_word_count.std())"
   ]
  },
  {
   "cell_type": "code",
   "execution_count": 9,
   "metadata": {
    "scrolled": true
   },
   "outputs": [
    {
     "name": "stdout",
     "output_type": "stream",
     "text": [
      "effect size - mean difference: -9.560339319280578\n",
      "effect size - Cohan's D: -0.856853153516054\n"
     ]
    }
   ],
   "source": [
    "print('effect size - mean difference:', ham_word_count.mean() - spam_word_count.mean())\n",
    "#Cohan's D\n",
    "SS_ham = sum(np.square(i-ham_word_count.mean()) for i in ham_word_count)\n",
    "SS_spam = sum(np.square(i-ham_word_count.mean()) for i in spam_word_count)\n",
    "pooled_variance = (SS_ham + SS_spam) / (len(ham_word_count) + len(spam_word_count) - 2)\n",
    "cohans_D = (ham_word_count.mean() - spam_word_count.mean()) / np.sqrt(pooled_variance)\n",
    "print(\"effect size - Cohan's D:\", cohans_D)"
   ]
  },
  {
   "cell_type": "markdown",
   "metadata": {},
   "source": [
    "Null Hypothesis: mean word counts aren't significantly different.\n",
    "\n",
    "Perform t-test and determin the p-value.\n",
    "\n",
    "In order to determine if Student t-test or Welch's t-test, we will use Bartlett’s test to determine the equality of variance from the two populations (https://www.itl.nist.gov/div898/handbook/eda/section3/eda357.htm)."
   ]
  },
  {
   "cell_type": "code",
   "execution_count": 10,
   "metadata": {},
   "outputs": [
    {
     "data": {
      "text/plain": [
       "BartlettResult(statistic=417.5404831177946, pvalue=8.371299925823707e-93)"
      ]
     },
     "execution_count": 10,
     "metadata": {},
     "output_type": "execute_result"
    }
   ],
   "source": [
    "stats.bartlett(ham_word_count, spam_word_count)"
   ]
  },
  {
   "cell_type": "markdown",
   "metadata": {},
   "source": [
    "p-value from Bartlett's test is close to zero, we can conclude that the two samples have homogeneity of variances. Therefore assumptions for Studetn t-test is met. A two-tail t-test is performed. With p-value close to 0.00, we can reject the null hypothesis."
   ]
  },
  {
   "cell_type": "code",
   "execution_count": 11,
   "metadata": {},
   "outputs": [
    {
     "data": {
      "text/plain": [
       "Ttest_indResult(statistic=-22.95188231518365, pvalue=1.8192750240662993e-111)"
      ]
     },
     "execution_count": 11,
     "metadata": {},
     "output_type": "execute_result"
    }
   ],
   "source": [
    "stats.ttest_ind(ham_word_count, spam_word_count)"
   ]
  },
  {
   "cell_type": "markdown",
   "metadata": {},
   "source": [
    "Similar patterns found in character count. More than one third of spam messages fall between 140-160, and it's probably due to the fact that SMS message will be broken down into chuncks if it's more than 160 characters. "
   ]
  },
  {
   "cell_type": "code",
   "execution_count": 12,
   "metadata": {
    "scrolled": true
   },
   "outputs": [
    {
     "name": "stderr",
     "output_type": "stream",
     "text": [
      "/home/nemsys/projects/courses/ProgressBG/ProgressBG-MLwithPython/ProgressBG-MLwithPython-Code/.venv/lib/python3.7/site-packages/matplotlib/axes/_axes.py:6521: MatplotlibDeprecationWarning: \n",
      "The 'normed' kwarg was deprecated in Matplotlib 2.1 and will be removed in 3.1. Use 'density' instead.\n",
      "  alternative=\"'density'\", removal=\"3.1\")\n"
     ]
    },
    {
     "data": {
      "image/png": "[encoded data removed]",
      "text/plain": [
       "<Figure size 432x576 with 2 Axes>"
      ]
     },
     "metadata": {
      "needs_background": "light"
     },
     "output_type": "display_data"
    }
   ],
   "source": [
    "#visualize char_count\n",
    "fig = plt.figure(figsize=(6,8))\n",
    "ax1 = fig.add_subplot(2, 1, 1)\n",
    "ax1.hist(sms['char_count'], bins=80,normed=True, color='#1f77b4', alpha=0.5)\n",
    "plt.xlim(0,300)\n",
    "plt.xlabel('Character Count: Total')\n",
    "plt.ylabel('Probability')\n",
    "plt.title('Character Count')\n",
    "ax1.spines['top'].set_visible(False)\n",
    "ax1.spines['right'].set_visible(False)\n",
    "\n",
    "ax2 = fig.add_subplot(2, 1, 2)\n",
    "bins = np.histogram(np.hstack((sms.loc[sms.label=='ham']['char_count'], sms.loc[sms.label=='spam']['char_count'])), bins=80)[1]\n",
    "plt.hist(sms.loc[sms.label=='ham']['char_count'], bins, normed=True, color='#17becf', alpha=0.8, label='ham')\n",
    "plt.hist(sms.loc[sms.label=='spam']['char_count'], bins, normed=True, color='#ff7f0e', alpha=0.8, label='spam')\n",
    "plt.legend(loc='upper right')\n",
    "plt.xlim(0, 300)\n",
    "plt.xlabel('Character Count: ham vs spam')\n",
    "plt.ylabel('Probability')\n",
    "plt.title('Character Count: Ham vs Spam')\n",
    "\n",
    "ax2.spines['top'].set_visible(False)\n",
    "ax2.spines['right'].set_visible(False)\n",
    "plt.subplots_adjust(hspace=0.5)"
   ]
  },
  {
   "cell_type": "markdown",
   "metadata": {},
   "source": [
    "#### Statistical Inferance for Character Count. \n",
    "\n",
    "I will follow the same approach to run a t-test for ham and spam samples based on means of character count.\n",
    "\n",
    "Null Hypothesis: mean character counts aren't significantly different."
   ]
  },
  {
   "cell_type": "code",
   "execution_count": 13,
   "metadata": {},
   "outputs": [
    {
     "name": "stdout",
     "output_type": "stream",
     "text": [
      "mean-ham: 67.25927461139896\n",
      "mean-spam: 133.62516733601072\n",
      "stand-deviation-ham: 55.0610370035672\n",
      "stand-deviation-spam: 28.299789378948965\n",
      "effect size - mean difference: -66.36589272461175\n",
      "effect size - Cohan's D: -0.1658316881315383\n",
      "Shapiro-Wilk test to check normality for ham sample: (0.7547241449356079, 0.0)\n",
      "Shapiro-Wilk test results for spam sample (0.8071423768997192, 6.522620368735381e-29)\n",
      "Bartlett's test to check homogeneity of variances:  BartlettResult(statistic=414.96733758918634, pvalue=3.040047141053962e-92)\n",
      "t-test result:  Ttest_indResult(statistic=-32.287431606426814, pvalue=8.3558780352527e-210)\n"
     ]
    }
   ],
   "source": [
    "ham_char_count = sms.loc[sms.label=='ham']['char_count']\n",
    "spam_char_count = sms.loc[sms.label=='spam']['char_count']\n",
    "print ('mean-ham:', ham_char_count.mean())\n",
    "print ('mean-spam:', spam_char_count.mean())\n",
    "print('stand-deviation-ham:', ham_char_count.std())\n",
    "print('stand-deviation-spam:', spam_char_count.std())\n",
    "print('effect size - mean difference:', ham_char_count.mean() - spam_char_count.mean())\n",
    "SS_ham = sum(np.square(i-ham_char_count.mean()) for i in ham_char_count)\n",
    "SS_spam = sum(np.square(i-ham_char_count.mean()) for i in spam_char_count)\n",
    "pooled_variance = (SS_ham + SS_spam) / (len(ham_char_count) + len(spam_char_count) - 2)\n",
    "cohans_D = (ham_word_count.mean() - spam_word_count.mean()) / np.sqrt(pooled_variance)\n",
    "print(\"effect size - Cohan's D:\", cohans_D)\n",
    "print (\"Shapiro-Wilk test to check normality for ham sample:\", stats.shapiro(ham_char_count))\n",
    "print (\"Shapiro-Wilk test results for spam sample\", stats.shapiro(spam_char_count)) \n",
    "print (\"Bartlett's test to check homogeneity of variances: \", stats.bartlett(ham_char_count, spam_char_count))\n",
    "print (\"t-test result: \", stats.ttest_ind(ham_char_count, spam_char_count))"
   ]
  },
  {
   "cell_type": "markdown",
   "metadata": {},
   "source": [
    "With a p-value equals to 0.00, we can reject null and conclude there is statistical difference in character lengths of ham and spam messages."
   ]
  },
  {
   "cell_type": "markdown",
   "metadata": {},
   "source": [
    "### Logistic Regression"
   ]
  },
  {
   "cell_type": "markdown",
   "metadata": {},
   "source": [
    "#### Word Count "
   ]
  },
  {
   "cell_type": "code",
   "execution_count": 14,
   "metadata": {},
   "outputs": [],
   "source": [
    "# dummy code variable\n",
    "sms = pd.get_dummies(sms, columns=['label'])\n",
    "#identify explaining variables and target variable\n",
    "y = sms[['label_spam']]\n",
    "X = sms[['word_count']]\n",
    "#split data into training and test data sets\n",
    "from sklearn.model_selection import train_test_split\n",
    "X_train, X_test, y_train, y_test = train_test_split(X, y, test_size=0.2)"
   ]
  },
  {
   "cell_type": "markdown",
   "metadata": {},
   "source": [
    "With only 13% of data labeled as \"Spam\", I'm going to add class_weight='balanced' to balance the data."
   ]
  },
  {
   "cell_type": "code",
   "execution_count": 26,
   "metadata": {
    "scrolled": true
   },
   "outputs": [
    {
     "name": "stdout",
     "output_type": "stream",
     "text": [
      "[[0.12976172]]\n",
      "training set score obtained Logistic Regression: 0.76\n",
      "test set score obtained Logistic Regression: 0.77\n"
     ]
    },
    {
     "name": "stderr",
     "output_type": "stream",
     "text": [
      "/home/nemsys/projects/courses/ProgressBG/ProgressBG-MLwithPython/ProgressBG-MLwithPython-Code/.venv/lib/python3.7/site-packages/sklearn/linear_model/logistic.py:433: FutureWarning: Default solver will be changed to 'lbfgs' in 0.22. Specify a solver to silence this warning.\n",
      "  FutureWarning)\n",
      "/home/nemsys/projects/courses/ProgressBG/ProgressBG-MLwithPython/ProgressBG-MLwithPython-Code/.venv/lib/python3.7/site-packages/sklearn/utils/validation.py:761: DataConversionWarning: A column-vector y was passed when a 1d array was expected. Please change the shape of y to (n_samples, ), for example using ravel().\n",
      "  y = column_or_1d(y, warn=True)\n"
     ]
    }
   ],
   "source": [
    "#apply LogisticRegression classfier\n",
    "from sklearn.linear_model import LogisticRegression\n",
    "lg = LogisticRegression(class_weight='balanced').fit(X_train, y_train)\n",
    "print (lg.coef_)\n",
    "print('training set score obtained Logistic Regression: {:.2f}'.format(lg.score(X_train, y_train)))\n",
    "print('test set score obtained Logistic Regression: {:.2f}'.format(lg.score(X_test, y_test)))"
   ]
  },
  {
   "cell_type": "markdown",
   "metadata": {},
   "source": [
    "The confusion matrix shows that 223(25%) of non-spam data is predicted as spam. The model is overall weak at detecting spam messages."
   ]
  },
  {
   "cell_type": "code",
   "execution_count": null,
   "metadata": {},
   "outputs": [],
   "source": []
  },
  {
   "cell_type": "code",
   "execution_count": 27,
   "metadata": {
    "scrolled": true
   },
   "outputs": [
    {
     "name": "stdout",
     "output_type": "stream",
     "text": [
      "[[731 243]\n",
      " [ 18 123]]\n"
     ]
    }
   ],
   "source": [
    "y_pred = lg.predict(X_test)\n",
    "from sklearn.metrics import confusion_matrix\n",
    "confusion_matrix = confusion_matrix(y_test, y_pred)\n",
    "print(confusion_matrix)"
   ]
  },
  {
   "cell_type": "code",
   "execution_count": 17,
   "metadata": {
    "scrolled": true
   },
   "outputs": [
    {
     "name": "stdout",
     "output_type": "stream",
     "text": [
      "              precision    recall  f1-score   support\n",
      "\n",
      "           0       0.98      0.75      0.85       974\n",
      "           1       0.34      0.87      0.49       141\n",
      "\n",
      "   micro avg       0.77      0.77      0.77      1115\n",
      "   macro avg       0.66      0.81      0.67      1115\n",
      "weighted avg       0.90      0.77      0.80      1115\n",
      "\n"
     ]
    }
   ],
   "source": [
    "from sklearn.metrics import classification_report\n",
    "print(classification_report(y_test, y_pred))"
   ]
  },
  {
   "cell_type": "code",
   "execution_count": 18,
   "metadata": {
    "scrolled": true
   },
   "outputs": [
    {
     "data": {
      "image/png": "[encoded data removed]",
      "text/plain": [
       "<Figure size 432x288 with 1 Axes>"
      ]
     },
     "metadata": {
      "needs_background": "light"
     },
     "output_type": "display_data"
    }
   ],
   "source": [
    "from sklearn.metrics import roc_auc_score\n",
    "from sklearn.metrics import roc_curve\n",
    "logit_roc_auc = roc_auc_score(y_test, lg.predict_proba(X_test)[: ,1])\n",
    "fpr, tpr, thresholds = roc_curve(y_test, lg.predict_proba(X_test)[:,1])\n",
    "# print(thresholds)\n",
    "plt.figure()\n",
    "plt.plot(fpr, tpr, label='Logistic Regression (area = %0.2f)' % logit_roc_auc)\n",
    "plt.plot([0, 1], [0, 1],'r--')\n",
    "plt.xlim([0.0, 1.0])\n",
    "plt.ylim([0.0, 1.05])\n",
    "plt.xlabel('False Positive Rate')\n",
    "plt.ylabel('True Positive Rate')\n",
    "plt.title('Receiver operating characteristic')\n",
    "plt.legend(loc=\"lower right\")\n",
    "plt.show()"
   ]
  },
  {
   "cell_type": "markdown",
   "metadata": {},
   "source": [
    "#### Character Count"
   ]
  },
  {
   "cell_type": "code",
   "execution_count": 19,
   "metadata": {
    "scrolled": true
   },
   "outputs": [
    {
     "name": "stdout",
     "output_type": "stream",
     "text": [
      "training set score obtained Logistic Regression: 0.81\n",
      "test set score obtained Logistic Regression: 0.81\n"
     ]
    },
    {
     "name": "stderr",
     "output_type": "stream",
     "text": [
      "/home/nemsys/projects/courses/ProgressBG/ProgressBG-MLwithPython/ProgressBG-MLwithPython-Code/.venv/lib/python3.7/site-packages/sklearn/linear_model/logistic.py:433: FutureWarning: Default solver will be changed to 'lbfgs' in 0.22. Specify a solver to silence this warning.\n",
      "  FutureWarning)\n",
      "/home/nemsys/projects/courses/ProgressBG/ProgressBG-MLwithPython/ProgressBG-MLwithPython-Code/.venv/lib/python3.7/site-packages/sklearn/utils/validation.py:761: DataConversionWarning: A column-vector y was passed when a 1d array was expected. Please change the shape of y to (n_samples, ), for example using ravel().\n",
      "  y = column_or_1d(y, warn=True)\n"
     ]
    }
   ],
   "source": [
    "# #dummy code \"label\"\n",
    "# sms = pd.get_dummies(sms, columns=['label'])\n",
    "\n",
    "#identify explaining variables and target variable\n",
    "X_c = sms[['char_count']]\n",
    "y_c = sms[['label_spam']]\n",
    "#split data into training and test data sets\n",
    "from sklearn.model_selection import train_test_split\n",
    "X_c_train, X_c_test, y_c_train, y_c_test = train_test_split(X_c, y_c, test_size=0.2)\n",
    "\n",
    "#apply LogisticRegression classfier\n",
    "from sklearn.linear_model import LogisticRegression\n",
    "lg = LogisticRegression(class_weight='balanced').fit(X_c_train, y_c_train)\n",
    "print('training set score obtained Logistic Regression: {:.2f}'.format(lg.score(X_c_train, y_c_train)))\n",
    "print('test set score obtained Logistic Regression: {:.2f}'.format(lg.score(X_c_test, y_c_test)))"
   ]
  },
  {
   "cell_type": "markdown",
   "metadata": {},
   "source": [
    "The false positive rate is still high."
   ]
  },
  {
   "cell_type": "code",
   "execution_count": 20,
   "metadata": {},
   "outputs": [
    {
     "name": "stdout",
     "output_type": "stream",
     "text": [
      "Confusionn Matrix:\n",
      "[[782 195]\n",
      " [ 21 117]]\n",
      "Classification Report: \n",
      "              precision    recall  f1-score   support\n",
      "\n",
      "           0       0.97      0.80      0.88       977\n",
      "           1       0.38      0.85      0.52       138\n",
      "\n",
      "   micro avg       0.81      0.81      0.81      1115\n",
      "   macro avg       0.67      0.82      0.70      1115\n",
      "weighted avg       0.90      0.81      0.83      1115\n",
      "\n"
     ]
    }
   ],
   "source": [
    "print (\"Confusionn Matrix:\")\n",
    "y_c_pred = lg.predict(X_c_test)\n",
    "y_c_pred_arr = y_c_pred.tolist()\n",
    "y_c_test_arr = np.array(y_c_test.label_spam).tolist()\n",
    "from sklearn.metrics import confusion_matrix\n",
    "confusion_matrix = confusion_matrix(y_c_test, y_c_pred)\n",
    "# matrix = confusion_matrix(y_c_test_arr, y_c_pred_arr)\n",
    "print(confusion_matrix)\n",
    "print (\"Classification Report: \")\n",
    "print(classification_report(y_c_test, y_c_pred))"
   ]
  },
  {
   "cell_type": "markdown",
   "metadata": {},
   "source": [
    "### Bag of Words"
   ]
  },
  {
   "cell_type": "markdown",
   "metadata": {},
   "source": [
    "A simple way to respensent texts is bag-or-words. The basic idea is to count how often each word appears in each text in the corpus. Please see below for detailed process. With this model, the model got improved to an accuracy score of 0.98."
   ]
  },
  {
   "cell_type": "code",
   "execution_count": 21,
   "metadata": {},
   "outputs": [
    {
     "name": "stdout",
     "output_type": "stream",
     "text": [
      "number of features:8438\n"
     ]
    },
    {
     "ename": "ModuleNotFoundError",
     "evalue": "No module named 'wordcloud'",
     "output_type": "error",
     "traceback": [
      "\u001b[0;31m---------------------------------------------------------------------------\u001b[0m",
      "\u001b[0;31mModuleNotFoundError\u001b[0m                       Traceback (most recent call last)",
      "\u001b[0;32m<ipython-input-21-f98051685c45>\u001b[0m in \u001b[0;36m<module>\u001b[0;34m\u001b[0m\n\u001b[1;32m     13\u001b[0m \u001b[0;34m\u001b[0m\u001b[0m\n\u001b[1;32m     14\u001b[0m \u001b[0;31m#visualize with wordcloud\u001b[0m\u001b[0;34m\u001b[0m\u001b[0;34m\u001b[0m\u001b[0m\n\u001b[0;32m---> 15\u001b[0;31m \u001b[0;32mfrom\u001b[0m \u001b[0mwordcloud\u001b[0m \u001b[0;32mimport\u001b[0m \u001b[0mWordCloud\u001b[0m\u001b[0;34m\u001b[0m\u001b[0m\n\u001b[0m\u001b[1;32m     16\u001b[0m \u001b[0mwordcloud\u001b[0m \u001b[0;34m=\u001b[0m \u001b[0mWordCloud\u001b[0m\u001b[0;34m(\u001b[0m\u001b[0mwidth\u001b[0m \u001b[0;34m=\u001b[0m \u001b[0;36m1000\u001b[0m\u001b[0;34m,\u001b[0m \u001b[0mheight\u001b[0m \u001b[0;34m=\u001b[0m \u001b[0;36m500\u001b[0m\u001b[0;34m)\u001b[0m\u001b[0;34m.\u001b[0m\u001b[0mgenerate\u001b[0m\u001b[0;34m(\u001b[0m\u001b[0;34m' '\u001b[0m\u001b[0;34m.\u001b[0m\u001b[0mjoin\u001b[0m\u001b[0;34m(\u001b[0m\u001b[0mvect\u001b[0m\u001b[0;34m.\u001b[0m\u001b[0mvocabulary_\u001b[0m\u001b[0;34m)\u001b[0m\u001b[0;34m)\u001b[0m\u001b[0;34m\u001b[0m\u001b[0m\n\u001b[1;32m     17\u001b[0m \u001b[0mplt\u001b[0m\u001b[0;34m.\u001b[0m\u001b[0mfigure\u001b[0m\u001b[0;34m(\u001b[0m\u001b[0mfigsize\u001b[0m\u001b[0;34m=\u001b[0m\u001b[0;34m(\u001b[0m\u001b[0;36m15\u001b[0m\u001b[0;34m,\u001b[0m\u001b[0;36m8\u001b[0m\u001b[0;34m)\u001b[0m\u001b[0;34m)\u001b[0m\u001b[0;34m\u001b[0m\u001b[0m\n",
      "\u001b[0;31mModuleNotFoundError\u001b[0m: No module named 'wordcloud'"
     ]
    }
   ],
   "source": [
    "#identify explaining variables and target variable\n",
    "X_b = sms['texts']\n",
    "y_b = sms['label_ham']\n",
    "\n",
    "#split data into training and test data sets\n",
    "X_b_train, X_b_test, y_b_train, y_b_test = train_test_split(X_b, y_b, test_size=0.2)\n",
    "\n",
    "#tokenization and vocabulary building over all documents\n",
    "from sklearn.feature_extraction.text import CountVectorizer\n",
    "vect = CountVectorizer().fit(X_b_train)\n",
    "\n",
    "print ('number of features:{}'.format(len(vect.vocabulary_)))\n",
    "\n",
    "#visualize with wordcloud\n",
    "from wordcloud import WordCloud\n",
    "wordcloud = WordCloud(width = 1000, height = 500).generate(' '.join(vect.vocabulary_))\n",
    "plt.figure(figsize=(15,8))\n",
    "plt.imshow(wordcloud)\n",
    "plt.show()\n",
    "\n",
    "#tokenization and vocabulary building over all training data set\n",
    "from sklearn.feature_extraction.text import CountVectorizer\n",
    "vect = CountVectorizer().fit(X_b_train)\n",
    "\n",
    "#sparse matrix encoding, resulting in one vector of word counts for each document.\n",
    "X_b_train = vect.transform(X_b_train)\n",
    "\n",
    "#import LogisticRegression classifier\n",
    "from sklearn.model_selection import cross_val_score\n",
    "from sklearn.linear_model import LogisticRegression\n",
    "\n",
    "#grid search for best parameter\n",
    "from sklearn.model_selection import GridSearchCV\n",
    "param_grid = {'C': [0.001, 0.01, 0.1, 1, 10]}\n",
    "grid = GridSearchCV(LogisticRegression(), param_grid, cv=5)\n",
    "grid.fit(X_b_train, y_b_train)\n",
    "print ('Best cross validation score: {:.2f}'.format(grid.best_score_))\n",
    "print ('Best parameters:', grid.best_params_)\n",
    "\n",
    "#fit classifier in test dataset\n",
    "X_b_test = vect.transform(X_b_test)\n",
    "print('Test score:{:.2f}'.format(grid.score(X_b_test, y_b_test)))"
   ]
  },
  {
   "cell_type": "markdown",
   "metadata": {},
   "source": [
    "We can further improve the model by setting the value of min_df in CountVectorizer. This means we only select tokens that appear in at list min_df of documents. In this dase, I set min_df=5. The accuracy score is still 0.98, however the number of features deducted from 8373 to 1507, which improves the computation efficiency. "
   ]
  },
  {
   "cell_type": "code",
   "execution_count": null,
   "metadata": {},
   "outputs": [],
   "source": [
    "#improve the model by selecting tokens that appear in at least 5 documents\n",
    "X_b = sms['texts']\n",
    "y_b = sms['label_ham']\n",
    "X_b_train, X_b_test, y_b_train, y_b_test = train_test_split(X_b, y_b, test_size=0.2)\n",
    "vect = CountVectorizer(min_df=5).fit(X_b_train)\n",
    "X_b_train = vect.transform(X_b_train)\n",
    "\n",
    "print ('number of features:{}'.format(len(vect.vocabulary_)))\n",
    "\n",
    "#visualize features\n",
    "wordcloud = WordCloud(width = 1000, height = 500).generate(' '.join(vect.vocabulary_))\n",
    "plt.figure(figsize=(15,8))\n",
    "plt.imshow(wordcloud)\n",
    "plt.show()\n",
    "\n",
    "#fit in logistic regression\n",
    "grid = GridSearchCV(LogisticRegression(), param_grid, cv=5)\n",
    "grid.fit(X_b_train, y_b_train)\n",
    "print ('Best cross validation score: {:.2f}'.format(grid.best_score_))\n",
    "print ('Parameters:', grid.best_params_)\n",
    "X_b_test = vect.transform(X_b_test)\n",
    "print('Test score:{:.2f}'.format(grid.score(X_b_test, y_b_test)))"
   ]
  },
  {
   "cell_type": "markdown",
   "metadata": {},
   "source": [
    "### Stopwords"
   ]
  },
  {
   "cell_type": "markdown",
   "metadata": {},
   "source": [
    "Another way to get rid of uninformative words is by discarding stopwords. Here I will use a list of stopwords from Python. By removing the stopwords, the number of feature is further recuced to 1324. The accuracy score remains as 0.98."
   ]
  },
  {
   "cell_type": "code",
   "execution_count": null,
   "metadata": {},
   "outputs": [],
   "source": [
    "X_b = sms['texts']\n",
    "y_b = sms['label_ham']\n",
    "X_b_train, X_b_test, y_b_train, y_b_test = train_test_split(X_b, y_b, test_size=0.2)\n",
    "\n",
    "#improve the model by selecting tokens that appear in at least 5 documents and discarding words that are too frequent to be informative\n",
    "from sklearn.feature_extraction.text import ENGLISH_STOP_WORDS\n",
    "vect = CountVectorizer(min_df=5, stop_words=ENGLISH_STOP_WORDS).fit(X_b_train)\n",
    "X_b_train = vect.transform(X_b_train)\n",
    "\n",
    "print ('number of features:{}'.format(len(vect.vocabulary_)))\n",
    "\n",
    "#visualize features\n",
    "wordcloud = WordCloud(width = 1000, height = 500).generate(' '.join(vect.vocabulary_))\n",
    "plt.figure(figsize=(15,8))\n",
    "plt.imshow(wordcloud)\n",
    "plt.show()\n",
    "\n",
    "#grid search with LogisticRegression classifier \n",
    "grid = GridSearchCV(LogisticRegression(), param_grid, cv=5)\n",
    "grid.fit(X_b_train, y_b_train)\n",
    "print ('Best cross validation score: {:.2f}'.format(grid.best_score_))\n",
    "print ('Parameters:', grid.best_params_)\n",
    "X_b_test = vect.transform(X_b_test)\n",
    "print('Test score:{:.2f}'.format(grid.score(X_b_test, y_b_test)))"
   ]
  },
  {
   "cell_type": "markdown",
   "metadata": {},
   "source": [
    "### Stemming"
   ]
  },
  {
   "cell_type": "markdown",
   "metadata": {},
   "source": [
    "Now let's try stemming, meaning to identify the words that have the same stem. We can potentially identify different format of verbs like \"dropped\", \"dropping\", and \"drops\" as one word drop, this can help avoid overfitting problems caused by identifying them as seperate features. This approach reduced number of features to 806. The accuracy score still remains the same though."
   ]
  },
  {
   "cell_type": "code",
   "execution_count": null,
   "metadata": {
    "scrolled": true
   },
   "outputs": [],
   "source": [
    "import nltk\n",
    "from nltk.tokenize import sent_tokenize, word_tokenize\n",
    "nltk.download('wordnet')\n",
    "from nltk.stem.wordnet import WordNetLemmatizer\n",
    "lmtzr = WordNetLemmatizer()\n",
    "\n",
    "def stemtexts (sentence):\n",
    "    s = []\n",
    "    for i in sentence.split():\n",
    "        s.append(lmtzr.lemmatize(i))\n",
    "    return ' '.join(s)\n",
    "\n",
    "sms['texts_stemmed'] = sms.texts.apply(stemtexts)\n",
    "sms.head()\n"
   ]
  },
  {
   "cell_type": "code",
   "execution_count": null,
   "metadata": {},
   "outputs": [],
   "source": [
    "X_s = sms['texts_stemmed']\n",
    "y_s = sms['label_ham']\n",
    "X_s_train, X_s_test, y_s_train, y_s_test = train_test_split(X_s, y_s, test_size=0.2)\n",
    "vect = CountVectorizer(min_df=10).fit(X_s_train)\n",
    "X_s_train = vect.transform(X_s_train)\n",
    "\n",
    "print ('number of features:{}'.format(len(vect.vocabulary_)))\n",
    "\n",
    "#visualize features\n",
    "wordcloud = WordCloud(width = 1000, height = 500).generate(' '.join(vect.vocabulary_))\n",
    "plt.figure(figsize=(15,8))\n",
    "plt.imshow(wordcloud)\n",
    "plt.show()\n",
    "\n",
    "#grid search with LogisticRegression classifier \n",
    "grid = GridSearchCV(LogisticRegression(), param_grid, cv=5)\n",
    "grid.fit(X_s_train, y_s_train)\n",
    "print ('Best cross validation score: {:.2f}'.format(grid.best_score_))\n",
    "print ('Parameters:', grid.best_params_)\n",
    "X_s_test = vect.transform(X_s_test)\n",
    "print('Test score:{:.2f}'.format(grid.score(X_s_test, y_s_test)))"
   ]
  },
  {
   "cell_type": "markdown",
   "metadata": {},
   "source": [
    "### Lemmatization"
   ]
  },
  {
   "cell_type": "markdown",
   "metadata": {},
   "source": [
    "A similar approach is lemmatization, which takes account of morphological analysis of the word. The standard form of the word is called lemma. For example, lemma of \"worse\" is \"bad\". With lemmatization of texts, we further reduce number of features to only 736. The accuracy score still remains the same."
   ]
  },
  {
   "cell_type": "code",
   "execution_count": null,
   "metadata": {},
   "outputs": [],
   "source": [
    "import spacy\n",
    "# load spacy's English-language modules\n",
    "en_nlp = spacy.load('en')\n",
    "# define fuction to convert a string to a lemma string.\n",
    "def spacytexts (txt):\n",
    "    txt_spacy = en_nlp(txt)\n",
    "    return ' '.join([token.lemma_ for token in txt_spacy])\n",
    "\n",
    "sms['texts_lemma'] = sms.texts.apply(spacytexts)\n",
    "sms.head()"
   ]
  },
  {
   "cell_type": "code",
   "execution_count": null,
   "metadata": {
    "scrolled": true
   },
   "outputs": [],
   "source": [
    "X_l = sms['texts_lemma']\n",
    "y_l = sms['label_ham']\n",
    "X_l_train, X_l_test, y_l_train, y_l_test = train_test_split(X_l, y_l, test_size=0.2)\n",
    "vect = CountVectorizer(min_df=10).fit(X_l_train)\n",
    "X_l_train = vect.transform(X_l_train)\n",
    "\n",
    "print ('number of features:{}'.format(len(vect.vocabulary_)))\n",
    "\n",
    "#visualize features\n",
    "wordcloud = WordCloud(width = 1000, height = 500).generate(' '.join(vect.vocabulary_))\n",
    "plt.figure(figsize=(15,8))\n",
    "plt.imshow(wordcloud)\n",
    "plt.show()\n",
    "\n",
    "#grid search with LogisticRegression classifier \n",
    "grid = GridSearchCV(LogisticRegression(), param_grid, cv=5)\n",
    "grid.fit(X_l_train, y_l_train)\n",
    "print ('Best cross validation score: {:.2f}'.format(grid.best_score_))\n",
    "print ('Parameters:', grid.best_params_)\n",
    "X_l_test = vect.transform(X_l_test)\n",
    "print('Test score:{:.2f}'.format(grid.score(X_l_test, y_l_test)))"
   ]
  },
  {
   "cell_type": "markdown",
   "metadata": {},
   "source": [
    "### Further Discussion"
   ]
  },
  {
   "cell_type": "markdown",
   "metadata": {},
   "source": [
    "This project is limited to logistic regression as logistic regression has advantage dealing with high-dimensional data, like text data. Further analysis can be exploring other machine learning techniques. \n",
    "\n",
    "SMS messages involve a lot of misspelling situation and abbriviation uses. Text normalization methods focus those topics may potentially improve the predicting power. "
   ]
  },
  {
   "cell_type": "code",
   "execution_count": null,
   "metadata": {},
   "outputs": [],
   "source": []
  }
 ],
 "metadata": {
  "kernelspec": {
   "display_name": "Python 3",
   "language": "python",
   "name": "python3"
  },
  "language_info": {
   "codemirror_mode": {
    "name": "ipython",
    "version": 3
   },
   "file_extension": ".py",
   "mimetype": "text/x-python",
   "name": "python",
   "nbconvert_exporter": "python",
   "pygments_lexer": "ipython3",
   "version": "3.8.2"
  },
  "toc": {
   "base_numbering": 1,
   "nav_menu": {},
   "number_sections": true,
   "sideBar": true,
   "skip_h1_title": true,
   "title_cell": "Table of Contents",
   "title_sidebar": "Content",
   "toc_cell": false,
   "toc_position": {},
   "toc_section_display": true,
   "toc_window_display": true
  }
 },
 "nbformat": 4,
 "nbformat_minor": 4
}
