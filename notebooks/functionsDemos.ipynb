{
 "cells": [
  {
   "cell_type": "markdown",
   "metadata": {},
   "source": [
    "# Some functions demos"
   ]
  },
  {
   "cell_type": "code",
   "execution_count": 2,
   "metadata": {},
   "outputs": [
    {
     "name": "stdout",
     "output_type": "stream",
     "text": [
      "5\n",
      "9\n"
     ]
    }
   ],
   "source": [
    "def add(*args):    \n",
    "    return sum(args)\n",
    "\n",
    "res = add(2,3)\n",
    "print(res)\n",
    "\n",
    "res = add(2,3,4)\n",
    "print(res)"
   ]
  },
  {
   "cell_type": "markdown",
   "metadata": {},
   "source": [
    "## print string demo"
   ]
  },
  {
   "cell_type": "code",
   "execution_count": 3,
   "metadata": {},
   "outputs": [
    {
     "name": "stdout",
     "output_type": "stream",
     "text": [
      "x in outer= 1\n",
      "x in outer=1\n",
      "x in outer=1\n",
      "x in outer=1\n"
     ]
    }
   ],
   "source": [
    "def outer():\n",
    "    x = 1\n",
    "    print('x in outer=',x )\n",
    "    print('x in outer=' + str(x))    \n",
    "    print('x in outer={}'.format(x))\n",
    "    print(f'x in outer={x}')\n",
    "\n",
    "    \n",
    "outer()"
   ]
  },
  {
   "cell_type": "markdown",
   "metadata": {},
   "source": [
    "## Variables Scoping"
   ]
  },
  {
   "cell_type": "code",
   "execution_count": 4,
   "metadata": {},
   "outputs": [
    {
     "name": "stdout",
     "output_type": "stream",
     "text": [
      "x in foo=1\n",
      "x in bar=9\n",
      "x in main=9\n"
     ]
    }
   ],
   "source": [
    "x = 9\n",
    "\n",
    "def foo(): \n",
    "    # x is local to foo\n",
    "    x = 1\n",
    "    print(f'x in foo={x}') # 1\n",
    "   \n",
    "def bar():\n",
    "   print(f'x in bar={x}') # 1 \n",
    "\n",
    "foo()\n",
    "bar()\n",
    "\n",
    "print(f'x in main={x}') # 9"
   ]
  }
 ],
 "metadata": {
  "kernelspec": {
   "display_name": "Python 3",
   "language": "python",
   "name": "python3"
  },
  "language_info": {
   "codemirror_mode": {
    "name": "ipython",
    "version": 3
   },
   "file_extension": ".py",
   "mimetype": "text/x-python",
   "name": "python",
   "nbconvert_exporter": "python",
   "pygments_lexer": "ipython3",
   "version": "3.8.2"
  }
 },
 "nbformat": 4,
 "nbformat_minor": 4
}
