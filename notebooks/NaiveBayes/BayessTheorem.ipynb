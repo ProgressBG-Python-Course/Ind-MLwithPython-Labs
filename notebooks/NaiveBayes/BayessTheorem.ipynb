{
 "cells": [
  {
   "cell_type": "code",
   "execution_count": null,
   "metadata": {},
   "outputs": [],
   "source": []
  },
  {
   "cell_type": "markdown",
   "metadata": {},
   "source": [
    "## Conditional Probability"
   ]
  },
  {
   "cell_type": "code",
   "execution_count": 1,
   "metadata": {},
   "outputs": [],
   "source": [
    "# Given:\n",
    "\n",
    "# among 100 readers:\n",
    "# 40 readers bought Book1 => P(Book1) = 0.4\n",
    "# 30 readers bought Book2 => P(Book2) = 0.3\n",
    "# 20 readers bought both Book1 and Book2 P(Book1 ) = > P(A and B) = 0.2\n",
    "\n",
    "# Question: \n",
    "\n",
    "# P(A|B) = P(A and B) / P(B)"
   ]
  },
  {
   "cell_type": "code",
   "execution_count": 2,
   "metadata": {},
   "outputs": [
    {
     "name": "stdout",
     "output_type": "stream",
     "text": [
      "0.6666666666666667\n"
     ]
    }
   ],
   "source": [
    "p_book1 = 0.4\n",
    "p_book2 = 0.3\n",
    "p_book1_and_book2 = 0.2\n",
    "\n",
    "p_book1_book2 = p_book1_and_book2 / p_book2\n",
    "print(p_book1_book2)\n"
   ]
  },
  {
   "cell_type": "markdown",
   "metadata": {},
   "source": [
    "## Bayess Theorem"
   ]
  },
  {
   "cell_type": "code",
   "execution_count": 3,
   "metadata": {},
   "outputs": [],
   "source": [
    "\n",
    "# P(A|B)  = P(B|A) * P(A) / P(B)\n"
   ]
  },
  {
   "cell_type": "code",
   "execution_count": 4,
   "metadata": {},
   "outputs": [
    {
     "data": {
      "text/plain": [
       "1.0"
      ]
     },
     "execution_count": 4,
     "metadata": {},
     "output_type": "execute_result"
    }
   ],
   "source": [
    "# Given:\n",
    "\n",
    "# 1%  => cancer\n",
    "# test : 90% => positive for cancer (true positive)\n",
    "# test :  5% => positive for non-cancer (false positeve)\n",
    "\n",
    "\n",
    "# 1000?\n",
    "# 0.01 * 0.9 => positive\n",
    "# 0.99 * 0.05 => positive\n",
    "\n",
    "\n",
    "\n",
    "p_cancer = 0.01\n",
    "p_positive_cancer = 0.9\n",
    "p_posiive_non_cancer = 0.05\n",
    "\n",
    "    \n",
    "# Question:\n",
    "# I have positive test result, what is the probability for me to have cancer? (>50%)\n",
    "p_cancer_positive = (0.01 * 0.9 )  + ( 0.99 * 0.05)\n",
    "p_cancer_positive\n"
   ]
  },
  {
   "cell_type": "code",
   "execution_count": 6,
   "metadata": {},
   "outputs": [
    {
     "name": "stdout",
     "output_type": "stream",
     "text": [
      "0.17094017094017094\n"
     ]
    }
   ],
   "source": [
    "p_cancer = 0.01\n",
    "p_positive_cancer = 1\n",
    "p_posiive_non_canpr = 0.05\n",
    "\n",
    "p_positive = (0.01 * 0.9) + (0.99 * 0.05)\n",
    "\n",
    "p_cancer_positive = (p_positive_cancer * p_ cancer) / p_positive\n",
    "\n",
    "print(p_cancer_positive)"
   ]
  },
  {
   "cell_type": "markdown",
   "metadata": {},
   "source": [
    "### Example2: Boys or girls:\n",
    "\n"
   ]
  }
 ],
 "metadata": {
  "kernelspec": {
   "display_name": "Python 3",
   "language": "python",
   "name": "python3"
  },
  "language_info": {
   "codemirror_mode": {
    "name": "ipython",
    "version": 3
   },
   "file_extension": ".py",
   "mimetype": "text/x-python",
   "name": "python",
   "nbconvert_exporter": "python",
   "pygments_lexer": "ipython3",
   "version": "3.8.2"
  }
 },
 "nbformat": 4,
 "nbformat_minor": 4
}
